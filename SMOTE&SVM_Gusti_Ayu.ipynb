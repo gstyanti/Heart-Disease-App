{
  "cells": [
    {
      "cell_type": "code",
      "execution_count": 58,
      "metadata": {},
      "outputs": [
        {
          "name": "stdout",
          "output_type": "stream",
          "text": [
            "Requirement already satisfied: seaborn in c:\\users\\m s i\\appdata\\local\\programs\\python\\python38\\lib\\site-packages (0.13.2)\n",
            "Requirement already satisfied: numpy!=1.24.0,>=1.20 in c:\\users\\m s i\\appdata\\local\\programs\\python\\python38\\lib\\site-packages (from seaborn) (1.24.4)\n",
            "Requirement already satisfied: pandas>=1.2 in c:\\users\\m s i\\appdata\\local\\programs\\python\\python38\\lib\\site-packages (from seaborn) (2.0.3)\n",
            "Requirement already satisfied: matplotlib!=3.6.1,>=3.4 in c:\\users\\m s i\\appdata\\local\\programs\\python\\python38\\lib\\site-packages (from seaborn) (3.7.5)\n",
            "Requirement already satisfied: contourpy>=1.0.1 in c:\\users\\m s i\\appdata\\local\\programs\\python\\python38\\lib\\site-packages (from matplotlib!=3.6.1,>=3.4->seaborn) (1.1.1)\n",
            "Requirement already satisfied: cycler>=0.10 in c:\\users\\m s i\\appdata\\local\\programs\\python\\python38\\lib\\site-packages (from matplotlib!=3.6.1,>=3.4->seaborn) (0.12.1)\n",
            "Requirement already satisfied: fonttools>=4.22.0 in c:\\users\\m s i\\appdata\\local\\programs\\python\\python38\\lib\\site-packages (from matplotlib!=3.6.1,>=3.4->seaborn) (4.51.0)\n",
            "Requirement already satisfied: kiwisolver>=1.0.1 in c:\\users\\m s i\\appdata\\local\\programs\\python\\python38\\lib\\site-packages (from matplotlib!=3.6.1,>=3.4->seaborn) (1.4.5)\n",
            "Requirement already satisfied: packaging>=20.0 in c:\\users\\m s i\\appdata\\roaming\\python\\python38\\site-packages (from matplotlib!=3.6.1,>=3.4->seaborn) (24.0)\n",
            "Requirement already satisfied: pillow>=6.2.0 in c:\\users\\m s i\\appdata\\local\\programs\\python\\python38\\lib\\site-packages (from matplotlib!=3.6.1,>=3.4->seaborn) (10.3.0)\n",
            "Requirement already satisfied: pyparsing>=2.3.1 in c:\\users\\m s i\\appdata\\local\\programs\\python\\python38\\lib\\site-packages (from matplotlib!=3.6.1,>=3.4->seaborn) (3.1.2)\n",
            "Requirement already satisfied: python-dateutil>=2.7 in c:\\users\\m s i\\appdata\\local\\programs\\python\\python38\\lib\\site-packages (from matplotlib!=3.6.1,>=3.4->seaborn) (2.9.0.post0)\n",
            "Requirement already satisfied: importlib-resources>=3.2.0 in c:\\users\\m s i\\appdata\\local\\programs\\python\\python38\\lib\\site-packages (from matplotlib!=3.6.1,>=3.4->seaborn) (6.4.0)\n",
            "Requirement already satisfied: pytz>=2020.1 in c:\\users\\m s i\\appdata\\local\\programs\\python\\python38\\lib\\site-packages (from pandas>=1.2->seaborn) (2024.1)\n",
            "Requirement already satisfied: tzdata>=2022.1 in c:\\users\\m s i\\appdata\\local\\programs\\python\\python38\\lib\\site-packages (from pandas>=1.2->seaborn) (2024.1)\n",
            "Requirement already satisfied: zipp>=3.1.0 in c:\\users\\m s i\\appdata\\local\\programs\\python\\python38\\lib\\site-packages (from importlib-resources>=3.2.0->matplotlib!=3.6.1,>=3.4->seaborn) (3.18.2)\n",
            "Requirement already satisfied: six>=1.5 in c:\\users\\m s i\\appdata\\local\\programs\\python\\python38\\lib\\site-packages (from python-dateutil>=2.7->matplotlib!=3.6.1,>=3.4->seaborn) (1.16.0)\n",
            "Note: you may need to restart the kernel to use updated packages.\n"
          ]
        },
        {
          "name": "stderr",
          "output_type": "stream",
          "text": [
            "\n",
            "[notice] A new release of pip is available: 24.0 -> 24.1.2\n",
            "[notice] To update, run: python.exe -m pip install --upgrade pip\n"
          ]
        }
      ],
      "source": [
        "pip install seaborn"
      ]
    },
    {
      "cell_type": "code",
      "execution_count": 59,
      "metadata": {},
      "outputs": [
        {
          "name": "stdout",
          "output_type": "stream",
          "text": [
            "Requirement already satisfied: missingno in c:\\users\\m s i\\appdata\\local\\programs\\python\\python38\\lib\\site-packages (0.5.2)\n",
            "Requirement already satisfied: numpy in c:\\users\\m s i\\appdata\\local\\programs\\python\\python38\\lib\\site-packages (from missingno) (1.24.4)\n",
            "Requirement already satisfied: matplotlib in c:\\users\\m s i\\appdata\\local\\programs\\python\\python38\\lib\\site-packages (from missingno) (3.7.5)\n",
            "Requirement already satisfied: scipy in c:\\users\\m s i\\appdata\\local\\programs\\python\\python38\\lib\\site-packages (from missingno) (1.10.1)\n",
            "Requirement already satisfied: seaborn in c:\\users\\m s i\\appdata\\local\\programs\\python\\python38\\lib\\site-packages (from missingno) (0.13.2)\n",
            "Requirement already satisfied: contourpy>=1.0.1 in c:\\users\\m s i\\appdata\\local\\programs\\python\\python38\\lib\\site-packages (from matplotlib->missingno) (1.1.1)\n",
            "Requirement already satisfied: cycler>=0.10 in c:\\users\\m s i\\appdata\\local\\programs\\python\\python38\\lib\\site-packages (from matplotlib->missingno) (0.12.1)\n",
            "Requirement already satisfied: fonttools>=4.22.0 in c:\\users\\m s i\\appdata\\local\\programs\\python\\python38\\lib\\site-packages (from matplotlib->missingno) (4.51.0)\n",
            "Requirement already satisfied: kiwisolver>=1.0.1 in c:\\users\\m s i\\appdata\\local\\programs\\python\\python38\\lib\\site-packages (from matplotlib->missingno) (1.4.5)\n",
            "Requirement already satisfied: packaging>=20.0 in c:\\users\\m s i\\appdata\\roaming\\python\\python38\\site-packages (from matplotlib->missingno) (24.0)\n",
            "Requirement already satisfied: pillow>=6.2.0 in c:\\users\\m s i\\appdata\\local\\programs\\python\\python38\\lib\\site-packages (from matplotlib->missingno) (10.3.0)\n",
            "Requirement already satisfied: pyparsing>=2.3.1 in c:\\users\\m s i\\appdata\\local\\programs\\python\\python38\\lib\\site-packages (from matplotlib->missingno) (3.1.2)\n",
            "Requirement already satisfied: python-dateutil>=2.7 in c:\\users\\m s i\\appdata\\local\\programs\\python\\python38\\lib\\site-packages (from matplotlib->missingno) (2.9.0.post0)\n",
            "Requirement already satisfied: importlib-resources>=3.2.0 in c:\\users\\m s i\\appdata\\local\\programs\\python\\python38\\lib\\site-packages (from matplotlib->missingno) (6.4.0)\n",
            "Requirement already satisfied: pandas>=1.2 in c:\\users\\m s i\\appdata\\local\\programs\\python\\python38\\lib\\site-packages (from seaborn->missingno) (2.0.3)\n",
            "Requirement already satisfied: zipp>=3.1.0 in c:\\users\\m s i\\appdata\\local\\programs\\python\\python38\\lib\\site-packages (from importlib-resources>=3.2.0->matplotlib->missingno) (3.18.2)\n",
            "Requirement already satisfied: pytz>=2020.1 in c:\\users\\m s i\\appdata\\local\\programs\\python\\python38\\lib\\site-packages (from pandas>=1.2->seaborn->missingno) (2024.1)\n",
            "Requirement already satisfied: tzdata>=2022.1 in c:\\users\\m s i\\appdata\\local\\programs\\python\\python38\\lib\\site-packages (from pandas>=1.2->seaborn->missingno) (2024.1)\n",
            "Requirement already satisfied: six>=1.5 in c:\\users\\m s i\\appdata\\local\\programs\\python\\python38\\lib\\site-packages (from python-dateutil>=2.7->matplotlib->missingno) (1.16.0)\n",
            "Note: you may need to restart the kernel to use updated packages.\n"
          ]
        },
        {
          "name": "stderr",
          "output_type": "stream",
          "text": [
            "\n",
            "[notice] A new release of pip is available: 24.0 -> 24.1.2\n",
            "[notice] To update, run: python.exe -m pip install --upgrade pip\n"
          ]
        }
      ],
      "source": [
        "pip install missingno"
      ]
    },
    {
      "cell_type": "code",
      "execution_count": 60,
      "metadata": {},
      "outputs": [
        {
          "name": "stdout",
          "output_type": "stream",
          "text": [
            "Requirement already satisfied: imbalanced-learn in c:\\users\\m s i\\appdata\\local\\programs\\python\\python38\\lib\\site-packages (0.12.2)\n",
            "Requirement already satisfied: numpy>=1.17.3 in c:\\users\\m s i\\appdata\\local\\programs\\python\\python38\\lib\\site-packages (from imbalanced-learn) (1.24.4)\n",
            "Requirement already satisfied: scipy>=1.5.0 in c:\\users\\m s i\\appdata\\local\\programs\\python\\python38\\lib\\site-packages (from imbalanced-learn) (1.10.1)\n",
            "Requirement already satisfied: scikit-learn>=1.0.2 in c:\\users\\m s i\\appdata\\local\\programs\\python\\python38\\lib\\site-packages (from imbalanced-learn) (1.3.2)\n",
            "Requirement already satisfied: joblib>=1.1.1 in c:\\users\\m s i\\appdata\\local\\programs\\python\\python38\\lib\\site-packages (from imbalanced-learn) (1.4.2)\n",
            "Requirement already satisfied: threadpoolctl>=2.0.0 in c:\\users\\m s i\\appdata\\local\\programs\\python\\python38\\lib\\site-packages (from imbalanced-learn) (3.5.0)\n",
            "Note: you may need to restart the kernel to use updated packages.\n"
          ]
        },
        {
          "name": "stderr",
          "output_type": "stream",
          "text": [
            "\n",
            "[notice] A new release of pip is available: 24.0 -> 24.1.2\n",
            "[notice] To update, run: python.exe -m pip install --upgrade pip\n"
          ]
        }
      ],
      "source": [
        "pip install imbalanced-learn"
      ]
    },
    {
      "cell_type": "markdown",
      "metadata": {
        "id": "DQVOfKwHlTSy"
      },
      "source": [
        "# Import Library\n"
      ]
    },
    {
      "cell_type": "code",
      "execution_count": 61,
      "metadata": {
        "id": "oOBDy8Sf0Kly"
      },
      "outputs": [],
      "source": [
        "import pandas as pd\n",
        "import numpy as np\n",
        "import seaborn as sns\n",
        "import matplotlib.pyplot as plt\n",
        "import missingno as msno\n",
        "\n",
        "from sklearn.metrics import confusion_matrix, accuracy_score, classification_report\n",
        "from sklearn.svm import SVC\n",
        "from sklearn.preprocessing import StandardScaler\n",
        "from sklearn.model_selection import train_test_split\n",
        "from sklearn.feature_selection import SelectKBest, chi2\n",
        "from sklearn.feature_selection import RFE\n",
        "from sklearn.linear_model import LinearRegression\n",
        "from collections import Counter\n",
        "from imblearn.under_sampling import RandomUnderSampler\n",
        "from sklearn.model_selection import train_test_split\n",
        "from collections import Counter\n",
        "from sklearn.model_selection import StratifiedKFold\n",
        "from sklearn.svm import SVC"
      ]
    },
    {
      "cell_type": "markdown",
      "metadata": {
        "id": "IZkDrCiPkF9Z"
      },
      "source": [
        "## Import Data"
      ]
    },
    {
      "cell_type": "code",
      "execution_count": 62,
      "metadata": {
        "id": "i7z1aGyAaHLt"
      },
      "outputs": [
        {
          "data": {
            "text/html": [
              "<div>\n",
              "<style scoped>\n",
              "    .dataframe tbody tr th:only-of-type {\n",
              "        vertical-align: middle;\n",
              "    }\n",
              "\n",
              "    .dataframe tbody tr th {\n",
              "        vertical-align: top;\n",
              "    }\n",
              "\n",
              "    .dataframe thead th {\n",
              "        text-align: right;\n",
              "    }\n",
              "</style>\n",
              "<table border=\"1\" class=\"dataframe\">\n",
              "  <thead>\n",
              "    <tr style=\"text-align: right;\">\n",
              "      <th></th>\n",
              "      <th>HeartDisease</th>\n",
              "      <th>BMI</th>\n",
              "      <th>Smoking</th>\n",
              "      <th>AlcoholDrinking</th>\n",
              "      <th>Stroke</th>\n",
              "      <th>PhysicalHealth</th>\n",
              "      <th>MentalHealth</th>\n",
              "      <th>DiffWalking</th>\n",
              "      <th>Sex</th>\n",
              "      <th>AgeCategory</th>\n",
              "      <th>Race</th>\n",
              "      <th>Diabetic</th>\n",
              "      <th>PhysicalActivity</th>\n",
              "      <th>GenHealth</th>\n",
              "      <th>SleepTime</th>\n",
              "      <th>Asthma</th>\n",
              "      <th>KidneyDisease</th>\n",
              "      <th>SkinCancer</th>\n",
              "    </tr>\n",
              "  </thead>\n",
              "  <tbody>\n",
              "    <tr>\n",
              "      <th>0</th>\n",
              "      <td>No</td>\n",
              "      <td>16.60</td>\n",
              "      <td>Yes</td>\n",
              "      <td>No</td>\n",
              "      <td>No</td>\n",
              "      <td>3</td>\n",
              "      <td>30</td>\n",
              "      <td>No</td>\n",
              "      <td>Female</td>\n",
              "      <td>55-59</td>\n",
              "      <td>White</td>\n",
              "      <td>Yes</td>\n",
              "      <td>Yes</td>\n",
              "      <td>Very good</td>\n",
              "      <td>5</td>\n",
              "      <td>Yes</td>\n",
              "      <td>No</td>\n",
              "      <td>Yes</td>\n",
              "    </tr>\n",
              "    <tr>\n",
              "      <th>1</th>\n",
              "      <td>No</td>\n",
              "      <td>20.34</td>\n",
              "      <td>No</td>\n",
              "      <td>No</td>\n",
              "      <td>Yes</td>\n",
              "      <td>0</td>\n",
              "      <td>0</td>\n",
              "      <td>No</td>\n",
              "      <td>Female</td>\n",
              "      <td>80 or older</td>\n",
              "      <td>White</td>\n",
              "      <td>No</td>\n",
              "      <td>Yes</td>\n",
              "      <td>Very good</td>\n",
              "      <td>7</td>\n",
              "      <td>No</td>\n",
              "      <td>No</td>\n",
              "      <td>No</td>\n",
              "    </tr>\n",
              "    <tr>\n",
              "      <th>2</th>\n",
              "      <td>No</td>\n",
              "      <td>26.58</td>\n",
              "      <td>Yes</td>\n",
              "      <td>No</td>\n",
              "      <td>No</td>\n",
              "      <td>20</td>\n",
              "      <td>30</td>\n",
              "      <td>No</td>\n",
              "      <td>Male</td>\n",
              "      <td>65-69</td>\n",
              "      <td>White</td>\n",
              "      <td>Yes</td>\n",
              "      <td>Yes</td>\n",
              "      <td>Fair</td>\n",
              "      <td>8</td>\n",
              "      <td>Yes</td>\n",
              "      <td>No</td>\n",
              "      <td>No</td>\n",
              "    </tr>\n",
              "    <tr>\n",
              "      <th>3</th>\n",
              "      <td>No</td>\n",
              "      <td>24.21</td>\n",
              "      <td>No</td>\n",
              "      <td>No</td>\n",
              "      <td>No</td>\n",
              "      <td>0</td>\n",
              "      <td>0</td>\n",
              "      <td>No</td>\n",
              "      <td>Female</td>\n",
              "      <td>75-79</td>\n",
              "      <td>White</td>\n",
              "      <td>No</td>\n",
              "      <td>No</td>\n",
              "      <td>Good</td>\n",
              "      <td>6</td>\n",
              "      <td>No</td>\n",
              "      <td>No</td>\n",
              "      <td>Yes</td>\n",
              "    </tr>\n",
              "    <tr>\n",
              "      <th>4</th>\n",
              "      <td>No</td>\n",
              "      <td>23.71</td>\n",
              "      <td>No</td>\n",
              "      <td>No</td>\n",
              "      <td>No</td>\n",
              "      <td>28</td>\n",
              "      <td>0</td>\n",
              "      <td>Yes</td>\n",
              "      <td>Female</td>\n",
              "      <td>40-44</td>\n",
              "      <td>White</td>\n",
              "      <td>No</td>\n",
              "      <td>Yes</td>\n",
              "      <td>Very good</td>\n",
              "      <td>8</td>\n",
              "      <td>No</td>\n",
              "      <td>No</td>\n",
              "      <td>No</td>\n",
              "    </tr>\n",
              "  </tbody>\n",
              "</table>\n",
              "</div>"
            ],
            "text/plain": [
              "  HeartDisease    BMI Smoking AlcoholDrinking Stroke  PhysicalHealth  \\\n",
              "0           No  16.60     Yes              No     No               3   \n",
              "1           No  20.34      No              No    Yes               0   \n",
              "2           No  26.58     Yes              No     No              20   \n",
              "3           No  24.21      No              No     No               0   \n",
              "4           No  23.71      No              No     No              28   \n",
              "\n",
              "   MentalHealth DiffWalking     Sex  AgeCategory   Race Diabetic  \\\n",
              "0            30          No  Female        55-59  White      Yes   \n",
              "1             0          No  Female  80 or older  White       No   \n",
              "2            30          No    Male        65-69  White      Yes   \n",
              "3             0          No  Female        75-79  White       No   \n",
              "4             0         Yes  Female        40-44  White       No   \n",
              "\n",
              "  PhysicalActivity  GenHealth  SleepTime Asthma KidneyDisease SkinCancer  \n",
              "0              Yes  Very good          5    Yes            No        Yes  \n",
              "1              Yes  Very good          7     No            No         No  \n",
              "2              Yes       Fair          8    Yes            No         No  \n",
              "3               No       Good          6     No            No        Yes  \n",
              "4              Yes  Very good          8     No            No         No  "
            ]
          },
          "execution_count": 62,
          "metadata": {},
          "output_type": "execute_result"
        }
      ],
      "source": [
        "df=pd.read_csv(\"heart_2020_cleaned.csv\")\n",
        "df.head()"
      ]
    },
    {
      "cell_type": "code",
      "execution_count": 63,
      "metadata": {
        "colab": {
          "base_uri": "https://localhost:8080/",
          "height": 226
        },
        "id": "igJaIzfoyBSK",
        "outputId": "bea3640d-3ad9-4e3e-faa5-d21eb600b98c"
      },
      "outputs": [
        {
          "data": {
            "text/html": [
              "<div>\n",
              "<style scoped>\n",
              "    .dataframe tbody tr th:only-of-type {\n",
              "        vertical-align: middle;\n",
              "    }\n",
              "\n",
              "    .dataframe tbody tr th {\n",
              "        vertical-align: top;\n",
              "    }\n",
              "\n",
              "    .dataframe thead th {\n",
              "        text-align: right;\n",
              "    }\n",
              "</style>\n",
              "<table border=\"1\" class=\"dataframe\">\n",
              "  <thead>\n",
              "    <tr style=\"text-align: right;\">\n",
              "      <th></th>\n",
              "      <th>HeartDisease</th>\n",
              "      <th>BMI</th>\n",
              "      <th>Smoking</th>\n",
              "      <th>AlcoholDrinking</th>\n",
              "      <th>Stroke</th>\n",
              "      <th>PhysicalHealth</th>\n",
              "      <th>MentalHealth</th>\n",
              "      <th>DiffWalking</th>\n",
              "      <th>Sex</th>\n",
              "      <th>AgeCategory</th>\n",
              "      <th>Race</th>\n",
              "      <th>Diabetic</th>\n",
              "      <th>PhysicalActivity</th>\n",
              "      <th>GenHealth</th>\n",
              "      <th>SleepTime</th>\n",
              "      <th>Asthma</th>\n",
              "      <th>KidneyDisease</th>\n",
              "      <th>SkinCancer</th>\n",
              "    </tr>\n",
              "  </thead>\n",
              "  <tbody>\n",
              "    <tr>\n",
              "      <th>0</th>\n",
              "      <td>No</td>\n",
              "      <td>16.60</td>\n",
              "      <td>Yes</td>\n",
              "      <td>No</td>\n",
              "      <td>No</td>\n",
              "      <td>3</td>\n",
              "      <td>30</td>\n",
              "      <td>No</td>\n",
              "      <td>Female</td>\n",
              "      <td>55-59</td>\n",
              "      <td>White</td>\n",
              "      <td>Yes</td>\n",
              "      <td>Yes</td>\n",
              "      <td>Very good</td>\n",
              "      <td>5</td>\n",
              "      <td>Yes</td>\n",
              "      <td>No</td>\n",
              "      <td>Yes</td>\n",
              "    </tr>\n",
              "    <tr>\n",
              "      <th>1</th>\n",
              "      <td>No</td>\n",
              "      <td>20.34</td>\n",
              "      <td>No</td>\n",
              "      <td>No</td>\n",
              "      <td>Yes</td>\n",
              "      <td>0</td>\n",
              "      <td>0</td>\n",
              "      <td>No</td>\n",
              "      <td>Female</td>\n",
              "      <td>80 or older</td>\n",
              "      <td>White</td>\n",
              "      <td>No</td>\n",
              "      <td>Yes</td>\n",
              "      <td>Very good</td>\n",
              "      <td>7</td>\n",
              "      <td>No</td>\n",
              "      <td>No</td>\n",
              "      <td>No</td>\n",
              "    </tr>\n",
              "    <tr>\n",
              "      <th>2</th>\n",
              "      <td>No</td>\n",
              "      <td>26.58</td>\n",
              "      <td>Yes</td>\n",
              "      <td>No</td>\n",
              "      <td>No</td>\n",
              "      <td>20</td>\n",
              "      <td>30</td>\n",
              "      <td>No</td>\n",
              "      <td>Male</td>\n",
              "      <td>65-69</td>\n",
              "      <td>White</td>\n",
              "      <td>Yes</td>\n",
              "      <td>Yes</td>\n",
              "      <td>Fair</td>\n",
              "      <td>8</td>\n",
              "      <td>Yes</td>\n",
              "      <td>No</td>\n",
              "      <td>No</td>\n",
              "    </tr>\n",
              "    <tr>\n",
              "      <th>3</th>\n",
              "      <td>No</td>\n",
              "      <td>24.21</td>\n",
              "      <td>No</td>\n",
              "      <td>No</td>\n",
              "      <td>No</td>\n",
              "      <td>0</td>\n",
              "      <td>0</td>\n",
              "      <td>No</td>\n",
              "      <td>Female</td>\n",
              "      <td>75-79</td>\n",
              "      <td>White</td>\n",
              "      <td>No</td>\n",
              "      <td>No</td>\n",
              "      <td>Good</td>\n",
              "      <td>6</td>\n",
              "      <td>No</td>\n",
              "      <td>No</td>\n",
              "      <td>Yes</td>\n",
              "    </tr>\n",
              "    <tr>\n",
              "      <th>4</th>\n",
              "      <td>No</td>\n",
              "      <td>23.71</td>\n",
              "      <td>No</td>\n",
              "      <td>No</td>\n",
              "      <td>No</td>\n",
              "      <td>28</td>\n",
              "      <td>0</td>\n",
              "      <td>Yes</td>\n",
              "      <td>Female</td>\n",
              "      <td>40-44</td>\n",
              "      <td>White</td>\n",
              "      <td>No</td>\n",
              "      <td>Yes</td>\n",
              "      <td>Very good</td>\n",
              "      <td>8</td>\n",
              "      <td>No</td>\n",
              "      <td>No</td>\n",
              "      <td>No</td>\n",
              "    </tr>\n",
              "  </tbody>\n",
              "</table>\n",
              "</div>"
            ],
            "text/plain": [
              "  HeartDisease    BMI Smoking AlcoholDrinking Stroke  PhysicalHealth  \\\n",
              "0           No  16.60     Yes              No     No               3   \n",
              "1           No  20.34      No              No    Yes               0   \n",
              "2           No  26.58     Yes              No     No              20   \n",
              "3           No  24.21      No              No     No               0   \n",
              "4           No  23.71      No              No     No              28   \n",
              "\n",
              "   MentalHealth DiffWalking     Sex  AgeCategory   Race Diabetic  \\\n",
              "0            30          No  Female        55-59  White      Yes   \n",
              "1             0          No  Female  80 or older  White       No   \n",
              "2            30          No    Male        65-69  White      Yes   \n",
              "3             0          No  Female        75-79  White       No   \n",
              "4             0         Yes  Female        40-44  White       No   \n",
              "\n",
              "  PhysicalActivity  GenHealth  SleepTime Asthma KidneyDisease SkinCancer  \n",
              "0              Yes  Very good          5    Yes            No        Yes  \n",
              "1              Yes  Very good          7     No            No         No  \n",
              "2              Yes       Fair          8    Yes            No         No  \n",
              "3               No       Good          6     No            No        Yes  \n",
              "4              Yes  Very good          8     No            No         No  "
            ]
          },
          "execution_count": 63,
          "metadata": {},
          "output_type": "execute_result"
        }
      ],
      "source": [
        "# Memanggil 25 data dari keseluruhan data\n",
        "df.head(5)"
      ]
    },
    {
      "cell_type": "markdown",
      "metadata": {
        "id": "oFCCjaqSnvvR"
      },
      "source": [
        "## Data Understanding\n"
      ]
    },
    {
      "cell_type": "code",
      "execution_count": 64,
      "metadata": {},
      "outputs": [
        {
          "name": "stdout",
          "output_type": "stream",
          "text": [
            "<class 'pandas.core.frame.DataFrame'>\n",
            "RangeIndex: 319795 entries, 0 to 319794\n",
            "Data columns (total 18 columns):\n",
            " #   Column            Non-Null Count   Dtype  \n",
            "---  ------            --------------   -----  \n",
            " 0   HeartDisease      319795 non-null  object \n",
            " 1   BMI               319795 non-null  float64\n",
            " 2   Smoking           319795 non-null  object \n",
            " 3   AlcoholDrinking   319795 non-null  object \n",
            " 4   Stroke            319795 non-null  object \n",
            " 5   PhysicalHealth    319795 non-null  int64  \n",
            " 6   MentalHealth      319795 non-null  int64  \n",
            " 7   DiffWalking       319795 non-null  object \n",
            " 8   Sex               319795 non-null  object \n",
            " 9   AgeCategory       319795 non-null  object \n",
            " 10  Race              319795 non-null  object \n",
            " 11  Diabetic          319795 non-null  object \n",
            " 12  PhysicalActivity  319795 non-null  object \n",
            " 13  GenHealth         319795 non-null  object \n",
            " 14  SleepTime         319795 non-null  int64  \n",
            " 15  Asthma            319795 non-null  object \n",
            " 16  KidneyDisease     319795 non-null  object \n",
            " 17  SkinCancer        319795 non-null  object \n",
            "dtypes: float64(1), int64(3), object(14)\n",
            "memory usage: 43.9+ MB\n"
          ]
        }
      ],
      "source": [
        "df.info()"
      ]
    },
    {
      "cell_type": "code",
      "execution_count": 65,
      "metadata": {
        "colab": {
          "base_uri": "https://localhost:8080/",
          "height": 226
        },
        "id": "SlW9IkuVvsd_",
        "outputId": "43008b8b-3bfe-4869-fb66-c198b8a67da0"
      },
      "outputs": [
        {
          "data": {
            "text/html": [
              "<div>\n",
              "<style scoped>\n",
              "    .dataframe tbody tr th:only-of-type {\n",
              "        vertical-align: middle;\n",
              "    }\n",
              "\n",
              "    .dataframe tbody tr th {\n",
              "        vertical-align: top;\n",
              "    }\n",
              "\n",
              "    .dataframe thead th {\n",
              "        text-align: right;\n",
              "    }\n",
              "</style>\n",
              "<table border=\"1\" class=\"dataframe\">\n",
              "  <thead>\n",
              "    <tr style=\"text-align: right;\">\n",
              "      <th></th>\n",
              "      <th>HeartDisease</th>\n",
              "      <th>BMI</th>\n",
              "      <th>Smoking</th>\n",
              "      <th>AlcoholDrinking</th>\n",
              "      <th>Stroke</th>\n",
              "      <th>PhysicalHealth</th>\n",
              "      <th>MentalHealth</th>\n",
              "      <th>DiffWalking</th>\n",
              "      <th>Sex</th>\n",
              "      <th>AgeCategory</th>\n",
              "      <th>Race</th>\n",
              "      <th>Diabetic</th>\n",
              "      <th>PhysicalActivity</th>\n",
              "      <th>GenHealth</th>\n",
              "      <th>SleepTime</th>\n",
              "      <th>Asthma</th>\n",
              "      <th>KidneyDisease</th>\n",
              "      <th>SkinCancer</th>\n",
              "    </tr>\n",
              "  </thead>\n",
              "  <tbody>\n",
              "    <tr>\n",
              "      <th>0</th>\n",
              "      <td>0</td>\n",
              "      <td>16.60</td>\n",
              "      <td>1</td>\n",
              "      <td>0</td>\n",
              "      <td>0</td>\n",
              "      <td>3</td>\n",
              "      <td>30</td>\n",
              "      <td>0</td>\n",
              "      <td>1</td>\n",
              "      <td>8</td>\n",
              "      <td>1</td>\n",
              "      <td>1</td>\n",
              "      <td>1</td>\n",
              "      <td>2</td>\n",
              "      <td>5</td>\n",
              "      <td>1</td>\n",
              "      <td>0</td>\n",
              "      <td>1</td>\n",
              "    </tr>\n",
              "    <tr>\n",
              "      <th>1</th>\n",
              "      <td>0</td>\n",
              "      <td>20.34</td>\n",
              "      <td>0</td>\n",
              "      <td>0</td>\n",
              "      <td>1</td>\n",
              "      <td>0</td>\n",
              "      <td>0</td>\n",
              "      <td>0</td>\n",
              "      <td>1</td>\n",
              "      <td>13</td>\n",
              "      <td>1</td>\n",
              "      <td>0</td>\n",
              "      <td>1</td>\n",
              "      <td>2</td>\n",
              "      <td>7</td>\n",
              "      <td>0</td>\n",
              "      <td>0</td>\n",
              "      <td>0</td>\n",
              "    </tr>\n",
              "    <tr>\n",
              "      <th>2</th>\n",
              "      <td>0</td>\n",
              "      <td>26.58</td>\n",
              "      <td>1</td>\n",
              "      <td>0</td>\n",
              "      <td>0</td>\n",
              "      <td>20</td>\n",
              "      <td>30</td>\n",
              "      <td>0</td>\n",
              "      <td>0</td>\n",
              "      <td>10</td>\n",
              "      <td>1</td>\n",
              "      <td>1</td>\n",
              "      <td>1</td>\n",
              "      <td>4</td>\n",
              "      <td>8</td>\n",
              "      <td>1</td>\n",
              "      <td>0</td>\n",
              "      <td>0</td>\n",
              "    </tr>\n",
              "    <tr>\n",
              "      <th>3</th>\n",
              "      <td>0</td>\n",
              "      <td>24.21</td>\n",
              "      <td>0</td>\n",
              "      <td>0</td>\n",
              "      <td>0</td>\n",
              "      <td>0</td>\n",
              "      <td>0</td>\n",
              "      <td>0</td>\n",
              "      <td>1</td>\n",
              "      <td>12</td>\n",
              "      <td>1</td>\n",
              "      <td>0</td>\n",
              "      <td>0</td>\n",
              "      <td>3</td>\n",
              "      <td>6</td>\n",
              "      <td>0</td>\n",
              "      <td>0</td>\n",
              "      <td>1</td>\n",
              "    </tr>\n",
              "    <tr>\n",
              "      <th>4</th>\n",
              "      <td>0</td>\n",
              "      <td>23.71</td>\n",
              "      <td>0</td>\n",
              "      <td>0</td>\n",
              "      <td>0</td>\n",
              "      <td>28</td>\n",
              "      <td>0</td>\n",
              "      <td>1</td>\n",
              "      <td>1</td>\n",
              "      <td>5</td>\n",
              "      <td>1</td>\n",
              "      <td>0</td>\n",
              "      <td>1</td>\n",
              "      <td>2</td>\n",
              "      <td>8</td>\n",
              "      <td>0</td>\n",
              "      <td>0</td>\n",
              "      <td>0</td>\n",
              "    </tr>\n",
              "  </tbody>\n",
              "</table>\n",
              "</div>"
            ],
            "text/plain": [
              "   HeartDisease    BMI  Smoking  AlcoholDrinking  Stroke  PhysicalHealth  \\\n",
              "0             0  16.60        1                0       0               3   \n",
              "1             0  20.34        0                0       1               0   \n",
              "2             0  26.58        1                0       0              20   \n",
              "3             0  24.21        0                0       0               0   \n",
              "4             0  23.71        0                0       0              28   \n",
              "\n",
              "   MentalHealth  DiffWalking  Sex  AgeCategory  Race  Diabetic  \\\n",
              "0            30            0    1            8     1         1   \n",
              "1             0            0    1           13     1         0   \n",
              "2            30            0    0           10     1         1   \n",
              "3             0            0    1           12     1         0   \n",
              "4             0            1    1            5     1         0   \n",
              "\n",
              "   PhysicalActivity  GenHealth  SleepTime  Asthma  KidneyDisease  SkinCancer  \n",
              "0                 1          2          5       1              0           1  \n",
              "1                 1          2          7       0              0           0  \n",
              "2                 1          4          8       1              0           0  \n",
              "3                 0          3          6       0              0           1  \n",
              "4                 1          2          8       0              0           0  "
            ]
          },
          "execution_count": 65,
          "metadata": {},
          "output_type": "execute_result"
        }
      ],
      "source": [
        "df.replace({\"HeartDisease\":{'No':0, 'Yes':1}}, inplace=True)\n",
        "df.replace({\"Smoking\":{'No':0, 'Yes':1}}, inplace=True)\n",
        "df.replace({\"AlcoholDrinking\":{'No':0, 'Yes':1}}, inplace=True)\n",
        "df.replace({\"Stroke\":{'No':0, 'Yes':1}}, inplace=True)\n",
        "df.replace({\"DiffWalking\":{'No':0, 'Yes':1}}, inplace=True)\n",
        "df.replace({\"Sex\":{'Male':0, 'Female':1}}, inplace=True)\n",
        "df.replace({\"Diabetic\":{'No':0, 'Yes':1, 'No, borderline diabetes':2, 'Yes (during pregnancy)':3 }}, inplace=True)\n",
        "df.replace({\"PhysicalActivity\":{'No':0, 'Yes':1}}, inplace=True)\n",
        "df.replace({\"GenHealth\":{'Excellent':1, 'Very good':2, 'Good':3, 'Fair':4, 'Poor':5}}, inplace=True)\n",
        "df.replace({\"Asthma\":{'No':0, 'Yes':1}}, inplace=True)\n",
        "df.replace({\"KidneyDisease\":{'No':0, 'Yes':1}}, inplace=True)\n",
        "df.replace({\"SkinCancer\":{'No':0, 'Yes':1}}, inplace=True)\n",
        "df.replace({\"AgeCategory\":{'18-24':1, '25-29':2, '30-34':3, '35-39':4, '40-44':5, '45-49':6, '50-54':7,'55-59':8, '60-64':9,'65-69':10, '70-74':11,'75-79':12, '80 or older':13}}, inplace=True)\n",
        "df.replace({\"Race\":{'White':1, 'Black':2, 'American Indian/Alaskan Native':3, 'Asian':4, 'Hispanic':5, 'Other':6}}, inplace=True)\n",
        "\n",
        "\n",
        "df.head(5)"
      ]
    },
    {
      "cell_type": "code",
      "execution_count": 66,
      "metadata": {},
      "outputs": [],
      "source": [
        "x = df.drop('Race', axis=1)"
      ]
    },
    {
      "cell_type": "code",
      "execution_count": 67,
      "metadata": {
        "colab": {
          "base_uri": "https://localhost:8080/"
        },
        "id": "DTFml8J8ydqU",
        "outputId": "6a773b72-fb6c-4138-f4ee-be886887976d"
      },
      "outputs": [
        {
          "name": "stdout",
          "output_type": "stream",
          "text": [
            "Data Shape:  (319795, 18)\n"
          ]
        }
      ],
      "source": [
        "print (\"Data Shape: \", df.shape)"
      ]
    },
    {
      "cell_type": "code",
      "execution_count": 68,
      "metadata": {
        "colab": {
          "base_uri": "https://localhost:8080/"
        },
        "id": "tjt7Ss93yN9i",
        "outputId": "73d86e1d-1cc0-4321-feca-05b1eb1f0956"
      },
      "outputs": [
        {
          "name": "stdout",
          "output_type": "stream",
          "text": [
            "<class 'pandas.core.frame.DataFrame'>\n",
            "RangeIndex: 319795 entries, 0 to 319794\n",
            "Data columns (total 18 columns):\n",
            " #   Column            Non-Null Count   Dtype  \n",
            "---  ------            --------------   -----  \n",
            " 0   HeartDisease      319795 non-null  int64  \n",
            " 1   BMI               319795 non-null  float64\n",
            " 2   Smoking           319795 non-null  int64  \n",
            " 3   AlcoholDrinking   319795 non-null  int64  \n",
            " 4   Stroke            319795 non-null  int64  \n",
            " 5   PhysicalHealth    319795 non-null  int64  \n",
            " 6   MentalHealth      319795 non-null  int64  \n",
            " 7   DiffWalking       319795 non-null  int64  \n",
            " 8   Sex               319795 non-null  int64  \n",
            " 9   AgeCategory       319795 non-null  int64  \n",
            " 10  Race              319795 non-null  int64  \n",
            " 11  Diabetic          319795 non-null  int64  \n",
            " 12  PhysicalActivity  319795 non-null  int64  \n",
            " 13  GenHealth         319795 non-null  int64  \n",
            " 14  SleepTime         319795 non-null  int64  \n",
            " 15  Asthma            319795 non-null  int64  \n",
            " 16  KidneyDisease     319795 non-null  int64  \n",
            " 17  SkinCancer        319795 non-null  int64  \n",
            "dtypes: float64(1), int64(17)\n",
            "memory usage: 43.9 MB\n"
          ]
        }
      ],
      "source": [
        "df.info()"
      ]
    },
    {
      "cell_type": "code",
      "execution_count": 69,
      "metadata": {
        "colab": {
          "base_uri": "https://localhost:8080/",
          "height": 320
        },
        "id": "9JNavLsCyneH",
        "outputId": "9d555c66-8835-453a-fa5b-65489f302c5f"
      },
      "outputs": [
        {
          "data": {
            "text/html": [
              "<div>\n",
              "<style scoped>\n",
              "    .dataframe tbody tr th:only-of-type {\n",
              "        vertical-align: middle;\n",
              "    }\n",
              "\n",
              "    .dataframe tbody tr th {\n",
              "        vertical-align: top;\n",
              "    }\n",
              "\n",
              "    .dataframe thead th {\n",
              "        text-align: right;\n",
              "    }\n",
              "</style>\n",
              "<table border=\"1\" class=\"dataframe\">\n",
              "  <thead>\n",
              "    <tr style=\"text-align: right;\">\n",
              "      <th></th>\n",
              "      <th>HeartDisease</th>\n",
              "      <th>BMI</th>\n",
              "      <th>Smoking</th>\n",
              "      <th>AlcoholDrinking</th>\n",
              "      <th>Stroke</th>\n",
              "      <th>PhysicalHealth</th>\n",
              "      <th>MentalHealth</th>\n",
              "      <th>DiffWalking</th>\n",
              "      <th>Sex</th>\n",
              "      <th>AgeCategory</th>\n",
              "      <th>Race</th>\n",
              "      <th>Diabetic</th>\n",
              "      <th>PhysicalActivity</th>\n",
              "      <th>GenHealth</th>\n",
              "      <th>SleepTime</th>\n",
              "      <th>Asthma</th>\n",
              "      <th>KidneyDisease</th>\n",
              "      <th>SkinCancer</th>\n",
              "    </tr>\n",
              "  </thead>\n",
              "  <tbody>\n",
              "    <tr>\n",
              "      <th>count</th>\n",
              "      <td>319795.000000</td>\n",
              "      <td>319795.000000</td>\n",
              "      <td>319795.000000</td>\n",
              "      <td>319795.000000</td>\n",
              "      <td>319795.000000</td>\n",
              "      <td>319795.00000</td>\n",
              "      <td>319795.000000</td>\n",
              "      <td>319795.000000</td>\n",
              "      <td>319795.000000</td>\n",
              "      <td>319795.000000</td>\n",
              "      <td>319795.000000</td>\n",
              "      <td>319795.000000</td>\n",
              "      <td>319795.000000</td>\n",
              "      <td>319795.000000</td>\n",
              "      <td>319795.000000</td>\n",
              "      <td>319795.000000</td>\n",
              "      <td>319795.000000</td>\n",
              "      <td>319795.000000</td>\n",
              "    </tr>\n",
              "    <tr>\n",
              "      <th>mean</th>\n",
              "      <td>0.085595</td>\n",
              "      <td>28.325399</td>\n",
              "      <td>0.412477</td>\n",
              "      <td>0.068097</td>\n",
              "      <td>0.037740</td>\n",
              "      <td>3.37171</td>\n",
              "      <td>3.898366</td>\n",
              "      <td>0.138870</td>\n",
              "      <td>0.524727</td>\n",
              "      <td>7.514536</td>\n",
              "      <td>1.694104</td>\n",
              "      <td>0.194002</td>\n",
              "      <td>0.775362</td>\n",
              "      <td>2.404972</td>\n",
              "      <td>7.097075</td>\n",
              "      <td>0.134061</td>\n",
              "      <td>0.036833</td>\n",
              "      <td>0.093244</td>\n",
              "    </tr>\n",
              "    <tr>\n",
              "      <th>std</th>\n",
              "      <td>0.279766</td>\n",
              "      <td>6.356100</td>\n",
              "      <td>0.492281</td>\n",
              "      <td>0.251912</td>\n",
              "      <td>0.190567</td>\n",
              "      <td>7.95085</td>\n",
              "      <td>7.955235</td>\n",
              "      <td>0.345812</td>\n",
              "      <td>0.499389</td>\n",
              "      <td>3.564759</td>\n",
              "      <td>1.452432</td>\n",
              "      <td>0.496776</td>\n",
              "      <td>0.417344</td>\n",
              "      <td>1.042918</td>\n",
              "      <td>1.436007</td>\n",
              "      <td>0.340718</td>\n",
              "      <td>0.188352</td>\n",
              "      <td>0.290775</td>\n",
              "    </tr>\n",
              "    <tr>\n",
              "      <th>min</th>\n",
              "      <td>0.000000</td>\n",
              "      <td>12.020000</td>\n",
              "      <td>0.000000</td>\n",
              "      <td>0.000000</td>\n",
              "      <td>0.000000</td>\n",
              "      <td>0.00000</td>\n",
              "      <td>0.000000</td>\n",
              "      <td>0.000000</td>\n",
              "      <td>0.000000</td>\n",
              "      <td>1.000000</td>\n",
              "      <td>1.000000</td>\n",
              "      <td>0.000000</td>\n",
              "      <td>0.000000</td>\n",
              "      <td>1.000000</td>\n",
              "      <td>1.000000</td>\n",
              "      <td>0.000000</td>\n",
              "      <td>0.000000</td>\n",
              "      <td>0.000000</td>\n",
              "    </tr>\n",
              "    <tr>\n",
              "      <th>25%</th>\n",
              "      <td>0.000000</td>\n",
              "      <td>24.030000</td>\n",
              "      <td>0.000000</td>\n",
              "      <td>0.000000</td>\n",
              "      <td>0.000000</td>\n",
              "      <td>0.00000</td>\n",
              "      <td>0.000000</td>\n",
              "      <td>0.000000</td>\n",
              "      <td>0.000000</td>\n",
              "      <td>5.000000</td>\n",
              "      <td>1.000000</td>\n",
              "      <td>0.000000</td>\n",
              "      <td>1.000000</td>\n",
              "      <td>2.000000</td>\n",
              "      <td>6.000000</td>\n",
              "      <td>0.000000</td>\n",
              "      <td>0.000000</td>\n",
              "      <td>0.000000</td>\n",
              "    </tr>\n",
              "    <tr>\n",
              "      <th>50%</th>\n",
              "      <td>0.000000</td>\n",
              "      <td>27.340000</td>\n",
              "      <td>0.000000</td>\n",
              "      <td>0.000000</td>\n",
              "      <td>0.000000</td>\n",
              "      <td>0.00000</td>\n",
              "      <td>0.000000</td>\n",
              "      <td>0.000000</td>\n",
              "      <td>1.000000</td>\n",
              "      <td>8.000000</td>\n",
              "      <td>1.000000</td>\n",
              "      <td>0.000000</td>\n",
              "      <td>1.000000</td>\n",
              "      <td>2.000000</td>\n",
              "      <td>7.000000</td>\n",
              "      <td>0.000000</td>\n",
              "      <td>0.000000</td>\n",
              "      <td>0.000000</td>\n",
              "    </tr>\n",
              "    <tr>\n",
              "      <th>75%</th>\n",
              "      <td>0.000000</td>\n",
              "      <td>31.420000</td>\n",
              "      <td>1.000000</td>\n",
              "      <td>0.000000</td>\n",
              "      <td>0.000000</td>\n",
              "      <td>2.00000</td>\n",
              "      <td>3.000000</td>\n",
              "      <td>0.000000</td>\n",
              "      <td>1.000000</td>\n",
              "      <td>10.000000</td>\n",
              "      <td>1.000000</td>\n",
              "      <td>0.000000</td>\n",
              "      <td>1.000000</td>\n",
              "      <td>3.000000</td>\n",
              "      <td>8.000000</td>\n",
              "      <td>0.000000</td>\n",
              "      <td>0.000000</td>\n",
              "      <td>0.000000</td>\n",
              "    </tr>\n",
              "    <tr>\n",
              "      <th>max</th>\n",
              "      <td>1.000000</td>\n",
              "      <td>94.850000</td>\n",
              "      <td>1.000000</td>\n",
              "      <td>1.000000</td>\n",
              "      <td>1.000000</td>\n",
              "      <td>30.00000</td>\n",
              "      <td>30.000000</td>\n",
              "      <td>1.000000</td>\n",
              "      <td>1.000000</td>\n",
              "      <td>13.000000</td>\n",
              "      <td>6.000000</td>\n",
              "      <td>3.000000</td>\n",
              "      <td>1.000000</td>\n",
              "      <td>5.000000</td>\n",
              "      <td>24.000000</td>\n",
              "      <td>1.000000</td>\n",
              "      <td>1.000000</td>\n",
              "      <td>1.000000</td>\n",
              "    </tr>\n",
              "  </tbody>\n",
              "</table>\n",
              "</div>"
            ],
            "text/plain": [
              "        HeartDisease            BMI        Smoking  AlcoholDrinking  \\\n",
              "count  319795.000000  319795.000000  319795.000000    319795.000000   \n",
              "mean        0.085595      28.325399       0.412477         0.068097   \n",
              "std         0.279766       6.356100       0.492281         0.251912   \n",
              "min         0.000000      12.020000       0.000000         0.000000   \n",
              "25%         0.000000      24.030000       0.000000         0.000000   \n",
              "50%         0.000000      27.340000       0.000000         0.000000   \n",
              "75%         0.000000      31.420000       1.000000         0.000000   \n",
              "max         1.000000      94.850000       1.000000         1.000000   \n",
              "\n",
              "              Stroke  PhysicalHealth   MentalHealth    DiffWalking  \\\n",
              "count  319795.000000    319795.00000  319795.000000  319795.000000   \n",
              "mean        0.037740         3.37171       3.898366       0.138870   \n",
              "std         0.190567         7.95085       7.955235       0.345812   \n",
              "min         0.000000         0.00000       0.000000       0.000000   \n",
              "25%         0.000000         0.00000       0.000000       0.000000   \n",
              "50%         0.000000         0.00000       0.000000       0.000000   \n",
              "75%         0.000000         2.00000       3.000000       0.000000   \n",
              "max         1.000000        30.00000      30.000000       1.000000   \n",
              "\n",
              "                 Sex    AgeCategory           Race       Diabetic  \\\n",
              "count  319795.000000  319795.000000  319795.000000  319795.000000   \n",
              "mean        0.524727       7.514536       1.694104       0.194002   \n",
              "std         0.499389       3.564759       1.452432       0.496776   \n",
              "min         0.000000       1.000000       1.000000       0.000000   \n",
              "25%         0.000000       5.000000       1.000000       0.000000   \n",
              "50%         1.000000       8.000000       1.000000       0.000000   \n",
              "75%         1.000000      10.000000       1.000000       0.000000   \n",
              "max         1.000000      13.000000       6.000000       3.000000   \n",
              "\n",
              "       PhysicalActivity      GenHealth      SleepTime         Asthma  \\\n",
              "count     319795.000000  319795.000000  319795.000000  319795.000000   \n",
              "mean           0.775362       2.404972       7.097075       0.134061   \n",
              "std            0.417344       1.042918       1.436007       0.340718   \n",
              "min            0.000000       1.000000       1.000000       0.000000   \n",
              "25%            1.000000       2.000000       6.000000       0.000000   \n",
              "50%            1.000000       2.000000       7.000000       0.000000   \n",
              "75%            1.000000       3.000000       8.000000       0.000000   \n",
              "max            1.000000       5.000000      24.000000       1.000000   \n",
              "\n",
              "       KidneyDisease     SkinCancer  \n",
              "count  319795.000000  319795.000000  \n",
              "mean        0.036833       0.093244  \n",
              "std         0.188352       0.290775  \n",
              "min         0.000000       0.000000  \n",
              "25%         0.000000       0.000000  \n",
              "50%         0.000000       0.000000  \n",
              "75%         0.000000       0.000000  \n",
              "max         1.000000       1.000000  "
            ]
          },
          "execution_count": 69,
          "metadata": {},
          "output_type": "execute_result"
        }
      ],
      "source": [
        "df.describe()"
      ]
    },
    {
      "cell_type": "code",
      "execution_count": 70,
      "metadata": {
        "colab": {
          "base_uri": "https://localhost:8080/"
        },
        "id": "rjwvVPz2y1TL",
        "outputId": "2397daf3-e0a2-4c52-f9ca-8fb07de4ebfb"
      },
      "outputs": [
        {
          "data": {
            "text/plain": [
              "HeartDisease\n",
              "0    292422\n",
              "1     27373\n",
              "Name: count, dtype: int64"
            ]
          },
          "execution_count": 70,
          "metadata": {},
          "output_type": "execute_result"
        }
      ],
      "source": [
        "df.HeartDisease.value_counts()"
      ]
    },
    {
      "cell_type": "markdown",
      "metadata": {
        "id": "ZL-XMCgH6fUC"
      },
      "source": [
        "##Cleaning Data"
      ]
    },
    {
      "cell_type": "code",
      "execution_count": 71,
      "metadata": {
        "colab": {
          "base_uri": "https://localhost:8080/"
        },
        "id": "XW2Q8H9R6F3F",
        "outputId": "971e5e6f-d1e1-4f2e-b80a-3f9874047a97"
      },
      "outputs": [
        {
          "data": {
            "text/plain": [
              "18078"
            ]
          },
          "execution_count": 71,
          "metadata": {},
          "output_type": "execute_result"
        }
      ],
      "source": [
        "df.duplicated().sum()"
      ]
    },
    {
      "cell_type": "code",
      "execution_count": 72,
      "metadata": {
        "id": "LrtzGHhZ6ooz"
      },
      "outputs": [],
      "source": [
        "df = df.drop_duplicates()"
      ]
    },
    {
      "cell_type": "code",
      "execution_count": 73,
      "metadata": {
        "colab": {
          "base_uri": "https://localhost:8080/"
        },
        "id": "rREogpew6vJQ",
        "outputId": "bf1c9224-dd86-46fb-8f8b-1734e7b28d40"
      },
      "outputs": [
        {
          "data": {
            "text/plain": [
              "0"
            ]
          },
          "execution_count": 73,
          "metadata": {},
          "output_type": "execute_result"
        }
      ],
      "source": [
        "df.duplicated().sum()"
      ]
    },
    {
      "cell_type": "code",
      "execution_count": 74,
      "metadata": {
        "colab": {
          "base_uri": "https://localhost:8080/"
        },
        "id": "QW_W9T7aaYLC",
        "outputId": "1669f2df-b541-43bb-e991-dc7b2760f2a5"
      },
      "outputs": [
        {
          "data": {
            "text/plain": [
              "HeartDisease        0\n",
              "BMI                 0\n",
              "Smoking             0\n",
              "AlcoholDrinking     0\n",
              "Stroke              0\n",
              "PhysicalHealth      0\n",
              "MentalHealth        0\n",
              "DiffWalking         0\n",
              "Sex                 0\n",
              "AgeCategory         0\n",
              "Race                0\n",
              "Diabetic            0\n",
              "PhysicalActivity    0\n",
              "GenHealth           0\n",
              "SleepTime           0\n",
              "Asthma              0\n",
              "KidneyDisease       0\n",
              "SkinCancer          0\n",
              "dtype: int64"
            ]
          },
          "execution_count": 74,
          "metadata": {},
          "output_type": "execute_result"
        }
      ],
      "source": [
        "df.isnull().sum()"
      ]
    },
    {
      "cell_type": "code",
      "execution_count": 75,
      "metadata": {
        "colab": {
          "base_uri": "https://localhost:8080/",
          "height": 226
        },
        "id": "jirZnsWa_GOc",
        "outputId": "4887d310-e665-4745-e659-2ce15c5e5fb6"
      },
      "outputs": [
        {
          "data": {
            "text/html": [
              "<div>\n",
              "<style scoped>\n",
              "    .dataframe tbody tr th:only-of-type {\n",
              "        vertical-align: middle;\n",
              "    }\n",
              "\n",
              "    .dataframe tbody tr th {\n",
              "        vertical-align: top;\n",
              "    }\n",
              "\n",
              "    .dataframe thead th {\n",
              "        text-align: right;\n",
              "    }\n",
              "</style>\n",
              "<table border=\"1\" class=\"dataframe\">\n",
              "  <thead>\n",
              "    <tr style=\"text-align: right;\">\n",
              "      <th></th>\n",
              "      <th>HeartDisease</th>\n",
              "      <th>BMI</th>\n",
              "      <th>Smoking</th>\n",
              "      <th>AlcoholDrinking</th>\n",
              "      <th>Stroke</th>\n",
              "      <th>PhysicalHealth</th>\n",
              "      <th>MentalHealth</th>\n",
              "      <th>DiffWalking</th>\n",
              "      <th>Sex</th>\n",
              "      <th>AgeCategory</th>\n",
              "      <th>Race</th>\n",
              "      <th>Diabetic</th>\n",
              "      <th>PhysicalActivity</th>\n",
              "      <th>GenHealth</th>\n",
              "      <th>SleepTime</th>\n",
              "      <th>Asthma</th>\n",
              "      <th>KidneyDisease</th>\n",
              "      <th>SkinCancer</th>\n",
              "    </tr>\n",
              "  </thead>\n",
              "  <tbody>\n",
              "    <tr>\n",
              "      <th>0</th>\n",
              "      <td>0</td>\n",
              "      <td>16.60</td>\n",
              "      <td>1</td>\n",
              "      <td>0</td>\n",
              "      <td>0</td>\n",
              "      <td>3</td>\n",
              "      <td>30</td>\n",
              "      <td>0</td>\n",
              "      <td>1</td>\n",
              "      <td>8</td>\n",
              "      <td>1</td>\n",
              "      <td>1</td>\n",
              "      <td>1</td>\n",
              "      <td>2</td>\n",
              "      <td>5</td>\n",
              "      <td>1</td>\n",
              "      <td>0</td>\n",
              "      <td>1</td>\n",
              "    </tr>\n",
              "    <tr>\n",
              "      <th>1</th>\n",
              "      <td>0</td>\n",
              "      <td>20.34</td>\n",
              "      <td>0</td>\n",
              "      <td>0</td>\n",
              "      <td>1</td>\n",
              "      <td>0</td>\n",
              "      <td>0</td>\n",
              "      <td>0</td>\n",
              "      <td>1</td>\n",
              "      <td>13</td>\n",
              "      <td>1</td>\n",
              "      <td>0</td>\n",
              "      <td>1</td>\n",
              "      <td>2</td>\n",
              "      <td>7</td>\n",
              "      <td>0</td>\n",
              "      <td>0</td>\n",
              "      <td>0</td>\n",
              "    </tr>\n",
              "    <tr>\n",
              "      <th>2</th>\n",
              "      <td>0</td>\n",
              "      <td>26.58</td>\n",
              "      <td>1</td>\n",
              "      <td>0</td>\n",
              "      <td>0</td>\n",
              "      <td>20</td>\n",
              "      <td>30</td>\n",
              "      <td>0</td>\n",
              "      <td>0</td>\n",
              "      <td>10</td>\n",
              "      <td>1</td>\n",
              "      <td>1</td>\n",
              "      <td>1</td>\n",
              "      <td>4</td>\n",
              "      <td>8</td>\n",
              "      <td>1</td>\n",
              "      <td>0</td>\n",
              "      <td>0</td>\n",
              "    </tr>\n",
              "    <tr>\n",
              "      <th>3</th>\n",
              "      <td>0</td>\n",
              "      <td>24.21</td>\n",
              "      <td>0</td>\n",
              "      <td>0</td>\n",
              "      <td>0</td>\n",
              "      <td>0</td>\n",
              "      <td>0</td>\n",
              "      <td>0</td>\n",
              "      <td>1</td>\n",
              "      <td>12</td>\n",
              "      <td>1</td>\n",
              "      <td>0</td>\n",
              "      <td>0</td>\n",
              "      <td>3</td>\n",
              "      <td>6</td>\n",
              "      <td>0</td>\n",
              "      <td>0</td>\n",
              "      <td>1</td>\n",
              "    </tr>\n",
              "    <tr>\n",
              "      <th>4</th>\n",
              "      <td>0</td>\n",
              "      <td>23.71</td>\n",
              "      <td>0</td>\n",
              "      <td>0</td>\n",
              "      <td>0</td>\n",
              "      <td>28</td>\n",
              "      <td>0</td>\n",
              "      <td>1</td>\n",
              "      <td>1</td>\n",
              "      <td>5</td>\n",
              "      <td>1</td>\n",
              "      <td>0</td>\n",
              "      <td>1</td>\n",
              "      <td>2</td>\n",
              "      <td>8</td>\n",
              "      <td>0</td>\n",
              "      <td>0</td>\n",
              "      <td>0</td>\n",
              "    </tr>\n",
              "  </tbody>\n",
              "</table>\n",
              "</div>"
            ],
            "text/plain": [
              "   HeartDisease    BMI  Smoking  AlcoholDrinking  Stroke  PhysicalHealth  \\\n",
              "0             0  16.60        1                0       0               3   \n",
              "1             0  20.34        0                0       1               0   \n",
              "2             0  26.58        1                0       0              20   \n",
              "3             0  24.21        0                0       0               0   \n",
              "4             0  23.71        0                0       0              28   \n",
              "\n",
              "   MentalHealth  DiffWalking  Sex  AgeCategory  Race  Diabetic  \\\n",
              "0            30            0    1            8     1         1   \n",
              "1             0            0    1           13     1         0   \n",
              "2            30            0    0           10     1         1   \n",
              "3             0            0    1           12     1         0   \n",
              "4             0            1    1            5     1         0   \n",
              "\n",
              "   PhysicalActivity  GenHealth  SleepTime  Asthma  KidneyDisease  SkinCancer  \n",
              "0                 1          2          5       1              0           1  \n",
              "1                 1          2          7       0              0           0  \n",
              "2                 1          4          8       1              0           0  \n",
              "3                 0          3          6       0              0           1  \n",
              "4                 1          2          8       0              0           0  "
            ]
          },
          "execution_count": 75,
          "metadata": {},
          "output_type": "execute_result"
        }
      ],
      "source": [
        "df.head()"
      ]
    },
    {
      "cell_type": "markdown",
      "metadata": {
        "id": "dIosecVTk2gq"
      },
      "source": [
        "## Exploratory Data Analysis (EDA)"
      ]
    },
    {
      "cell_type": "code",
      "execution_count": 76,
      "metadata": {
        "colab": {
          "base_uri": "https://localhost:8080/",
          "height": 385
        },
        "id": "UH7BwjdQhvaa",
        "outputId": "125f96ae-3424-486c-bf54-22ec96e39cdd"
      },
      "outputs": [
        {
          "data": {
            "image/png": "[encoded data removed]",
            "text/plain": [
              "<Figure size 1600x500 with 3 Axes>"
            ]
          },
          "metadata": {},
          "output_type": "display_data"
        }
      ],
      "source": [
        "msno.bar(df, figsize = (16,5),color = \"#7B68EE\")\n",
        "plt.show()"
      ]
    },
    {
      "cell_type": "code",
      "execution_count": 77,
      "metadata": {
        "colab": {
          "base_uri": "https://localhost:8080/",
          "height": 634
        },
        "id": "b6Q10SxLTwLG",
        "outputId": "d23ab3e0-bb81-45ed-e4a3-94d3b2bb6c30"
      },
      "outputs": [
        {
          "data": {
            "text/html": [
              "<div>\n",
              "<style scoped>\n",
              "    .dataframe tbody tr th:only-of-type {\n",
              "        vertical-align: middle;\n",
              "    }\n",
              "\n",
              "    .dataframe tbody tr th {\n",
              "        vertical-align: top;\n",
              "    }\n",
              "\n",
              "    .dataframe thead th {\n",
              "        text-align: right;\n",
              "    }\n",
              "</style>\n",
              "<table border=\"1\" class=\"dataframe\">\n",
              "  <thead>\n",
              "    <tr style=\"text-align: right;\">\n",
              "      <th></th>\n",
              "      <th>HeartDisease</th>\n",
              "      <th>BMI</th>\n",
              "      <th>Smoking</th>\n",
              "      <th>AlcoholDrinking</th>\n",
              "      <th>Stroke</th>\n",
              "      <th>PhysicalHealth</th>\n",
              "      <th>MentalHealth</th>\n",
              "      <th>DiffWalking</th>\n",
              "      <th>Sex</th>\n",
              "      <th>AgeCategory</th>\n",
              "      <th>Race</th>\n",
              "      <th>Diabetic</th>\n",
              "      <th>PhysicalActivity</th>\n",
              "      <th>GenHealth</th>\n",
              "      <th>SleepTime</th>\n",
              "      <th>Asthma</th>\n",
              "      <th>KidneyDisease</th>\n",
              "      <th>SkinCancer</th>\n",
              "    </tr>\n",
              "  </thead>\n",
              "  <tbody>\n",
              "    <tr>\n",
              "      <th>HeartDisease</th>\n",
              "      <td>1.000000</td>\n",
              "      <td>0.047260</td>\n",
              "      <td>0.104524</td>\n",
              "      <td>-0.036289</td>\n",
              "      <td>0.194665</td>\n",
              "      <td>0.165235</td>\n",
              "      <td>0.020913</td>\n",
              "      <td>0.196420</td>\n",
              "      <td>-0.074435</td>\n",
              "      <td>0.239259</td>\n",
              "      <td>-0.047409</td>\n",
              "      <td>0.119695</td>\n",
              "      <td>-0.093597</td>\n",
              "      <td>0.237920</td>\n",
              "      <td>0.010834</td>\n",
              "      <td>0.035784</td>\n",
              "      <td>0.142672</td>\n",
              "      <td>0.090644</td>\n",
              "    </tr>\n",
              "    <tr>\n",
              "      <th>BMI</th>\n",
              "      <td>0.047260</td>\n",
              "      <td>1.000000</td>\n",
              "      <td>0.015890</td>\n",
              "      <td>-0.043463</td>\n",
              "      <td>0.016314</td>\n",
              "      <td>0.103813</td>\n",
              "      <td>0.056724</td>\n",
              "      <td>0.177388</td>\n",
              "      <td>-0.024200</td>\n",
              "      <td>-0.006069</td>\n",
              "      <td>0.012706</td>\n",
              "      <td>0.165152</td>\n",
              "      <td>-0.144441</td>\n",
              "      <td>0.221339</td>\n",
              "      <td>-0.048653</td>\n",
              "      <td>0.087563</td>\n",
              "      <td>0.047796</td>\n",
              "      <td>-0.038060</td>\n",
              "    </tr>\n",
              "    <tr>\n",
              "      <th>Smoking</th>\n",
              "      <td>0.104524</td>\n",
              "      <td>0.015890</td>\n",
              "      <td>1.000000</td>\n",
              "      <td>0.109183</td>\n",
              "      <td>0.058868</td>\n",
              "      <td>0.110270</td>\n",
              "      <td>0.078364</td>\n",
              "      <td>0.115789</td>\n",
              "      <td>-0.087514</td>\n",
              "      <td>0.128259</td>\n",
              "      <td>-0.070906</td>\n",
              "      <td>0.033872</td>\n",
              "      <td>-0.089864</td>\n",
              "      <td>0.164441</td>\n",
              "      <td>-0.027874</td>\n",
              "      <td>0.017545</td>\n",
              "      <td>0.031890</td>\n",
              "      <td>0.030438</td>\n",
              "    </tr>\n",
              "    <tr>\n",
              "      <th>AlcoholDrinking</th>\n",
              "      <td>-0.036289</td>\n",
              "      <td>-0.043463</td>\n",
              "      <td>0.109183</td>\n",
              "      <td>1.000000</td>\n",
              "      <td>-0.022707</td>\n",
              "      <td>-0.023255</td>\n",
              "      <td>0.045421</td>\n",
              "      <td>-0.041135</td>\n",
              "      <td>-0.006824</td>\n",
              "      <td>-0.060761</td>\n",
              "      <td>-0.026971</td>\n",
              "      <td>-0.051565</td>\n",
              "      <td>0.024408</td>\n",
              "      <td>-0.039991</td>\n",
              "      <td>-0.003172</td>\n",
              "      <td>-0.007114</td>\n",
              "      <td>-0.031166</td>\n",
              "      <td>-0.008739</td>\n",
              "    </tr>\n",
              "    <tr>\n",
              "      <th>Stroke</th>\n",
              "      <td>0.194665</td>\n",
              "      <td>0.016314</td>\n",
              "      <td>0.058868</td>\n",
              "      <td>-0.022707</td>\n",
              "      <td>1.000000</td>\n",
              "      <td>0.132966</td>\n",
              "      <td>0.041324</td>\n",
              "      <td>0.170664</td>\n",
              "      <td>0.001343</td>\n",
              "      <td>0.141537</td>\n",
              "      <td>-0.019633</td>\n",
              "      <td>0.073034</td>\n",
              "      <td>-0.074898</td>\n",
              "      <td>0.164449</td>\n",
              "      <td>0.013697</td>\n",
              "      <td>0.034942</td>\n",
              "      <td>0.089109</td>\n",
              "      <td>0.046039</td>\n",
              "    </tr>\n",
              "    <tr>\n",
              "      <th>PhysicalHealth</th>\n",
              "      <td>0.165235</td>\n",
              "      <td>0.103813</td>\n",
              "      <td>0.110270</td>\n",
              "      <td>-0.023255</td>\n",
              "      <td>0.132966</td>\n",
              "      <td>1.000000</td>\n",
              "      <td>0.279657</td>\n",
              "      <td>0.422935</td>\n",
              "      <td>0.038427</td>\n",
              "      <td>0.114623</td>\n",
              "      <td>-0.009979</td>\n",
              "      <td>0.110271</td>\n",
              "      <td>-0.224121</td>\n",
              "      <td>0.480076</td>\n",
              "      <td>-0.058406</td>\n",
              "      <td>0.110083</td>\n",
              "      <td>0.138219</td>\n",
              "      <td>0.036753</td>\n",
              "    </tr>\n",
              "    <tr>\n",
              "      <th>MentalHealth</th>\n",
              "      <td>0.020913</td>\n",
              "      <td>0.056724</td>\n",
              "      <td>0.078364</td>\n",
              "      <td>0.045421</td>\n",
              "      <td>0.041324</td>\n",
              "      <td>0.279657</td>\n",
              "      <td>1.000000</td>\n",
              "      <td>0.142964</td>\n",
              "      <td>0.098916</td>\n",
              "      <td>-0.158608</td>\n",
              "      <td>0.014840</td>\n",
              "      <td>0.023699</td>\n",
              "      <td>-0.084274</td>\n",
              "      <td>0.230043</td>\n",
              "      <td>-0.117078</td>\n",
              "      <td>0.105266</td>\n",
              "      <td>0.032105</td>\n",
              "      <td>-0.040214</td>\n",
              "    </tr>\n",
              "    <tr>\n",
              "      <th>DiffWalking</th>\n",
              "      <td>0.196420</td>\n",
              "      <td>0.177388</td>\n",
              "      <td>0.115789</td>\n",
              "      <td>-0.041135</td>\n",
              "      <td>0.170664</td>\n",
              "      <td>0.422935</td>\n",
              "      <td>0.142964</td>\n",
              "      <td>1.000000</td>\n",
              "      <td>0.067335</td>\n",
              "      <td>0.250407</td>\n",
              "      <td>-0.011927</td>\n",
              "      <td>0.153223</td>\n",
              "      <td>-0.271748</td>\n",
              "      <td>0.409798</td>\n",
              "      <td>-0.019155</td>\n",
              "      <td>0.095826</td>\n",
              "      <td>0.149471</td>\n",
              "      <td>0.060596</td>\n",
              "    </tr>\n",
              "    <tr>\n",
              "      <th>Sex</th>\n",
              "      <td>-0.074435</td>\n",
              "      <td>-0.024200</td>\n",
              "      <td>-0.087514</td>\n",
              "      <td>-0.006824</td>\n",
              "      <td>0.001343</td>\n",
              "      <td>0.038427</td>\n",
              "      <td>0.098916</td>\n",
              "      <td>0.067335</td>\n",
              "      <td>1.000000</td>\n",
              "      <td>0.060620</td>\n",
              "      <td>-0.003698</td>\n",
              "      <td>0.032500</td>\n",
              "      <td>-0.045309</td>\n",
              "      <td>0.022366</td>\n",
              "      <td>0.014901</td>\n",
              "      <td>0.067960</td>\n",
              "      <td>0.007579</td>\n",
              "      <td>-0.015846</td>\n",
              "    </tr>\n",
              "    <tr>\n",
              "      <th>AgeCategory</th>\n",
              "      <td>0.239259</td>\n",
              "      <td>-0.006069</td>\n",
              "      <td>0.128259</td>\n",
              "      <td>-0.060761</td>\n",
              "      <td>0.141537</td>\n",
              "      <td>0.114623</td>\n",
              "      <td>-0.158608</td>\n",
              "      <td>0.250407</td>\n",
              "      <td>0.060620</td>\n",
              "      <td>1.000000</td>\n",
              "      <td>-0.203820</td>\n",
              "      <td>0.155818</td>\n",
              "      <td>-0.125294</td>\n",
              "      <td>0.192321</td>\n",
              "      <td>0.105025</td>\n",
              "      <td>-0.058823</td>\n",
              "      <td>0.126541</td>\n",
              "      <td>0.267930</td>\n",
              "    </tr>\n",
              "    <tr>\n",
              "      <th>Race</th>\n",
              "      <td>-0.047409</td>\n",
              "      <td>0.012706</td>\n",
              "      <td>-0.070906</td>\n",
              "      <td>-0.026971</td>\n",
              "      <td>-0.019633</td>\n",
              "      <td>-0.009979</td>\n",
              "      <td>0.014840</td>\n",
              "      <td>-0.011927</td>\n",
              "      <td>-0.003698</td>\n",
              "      <td>-0.203820</td>\n",
              "      <td>1.000000</td>\n",
              "      <td>0.031265</td>\n",
              "      <td>-0.038309</td>\n",
              "      <td>0.023470</td>\n",
              "      <td>-0.037583</td>\n",
              "      <td>0.012750</td>\n",
              "      <td>-0.017029</td>\n",
              "      <td>-0.126016</td>\n",
              "    </tr>\n",
              "    <tr>\n",
              "      <th>Diabetic</th>\n",
              "      <td>0.119695</td>\n",
              "      <td>0.165152</td>\n",
              "      <td>0.033872</td>\n",
              "      <td>-0.051565</td>\n",
              "      <td>0.073034</td>\n",
              "      <td>0.110271</td>\n",
              "      <td>0.023699</td>\n",
              "      <td>0.153223</td>\n",
              "      <td>0.032500</td>\n",
              "      <td>0.155818</td>\n",
              "      <td>0.031265</td>\n",
              "      <td>1.000000</td>\n",
              "      <td>-0.094784</td>\n",
              "      <td>0.205025</td>\n",
              "      <td>-0.002654</td>\n",
              "      <td>0.039351</td>\n",
              "      <td>0.100402</td>\n",
              "      <td>0.018871</td>\n",
              "    </tr>\n",
              "    <tr>\n",
              "      <th>PhysicalActivity</th>\n",
              "      <td>-0.093597</td>\n",
              "      <td>-0.144441</td>\n",
              "      <td>-0.089864</td>\n",
              "      <td>0.024408</td>\n",
              "      <td>-0.074898</td>\n",
              "      <td>-0.224121</td>\n",
              "      <td>-0.084274</td>\n",
              "      <td>-0.271748</td>\n",
              "      <td>-0.045309</td>\n",
              "      <td>-0.125294</td>\n",
              "      <td>-0.038309</td>\n",
              "      <td>-0.094784</td>\n",
              "      <td>1.000000</td>\n",
              "      <td>-0.270619</td>\n",
              "      <td>-0.000157</td>\n",
              "      <td>-0.032140</td>\n",
              "      <td>-0.077304</td>\n",
              "      <td>0.004785</td>\n",
              "    </tr>\n",
              "    <tr>\n",
              "      <th>GenHealth</th>\n",
              "      <td>0.237920</td>\n",
              "      <td>0.221339</td>\n",
              "      <td>0.164441</td>\n",
              "      <td>-0.039991</td>\n",
              "      <td>0.164449</td>\n",
              "      <td>0.480076</td>\n",
              "      <td>0.230043</td>\n",
              "      <td>0.409798</td>\n",
              "      <td>0.022366</td>\n",
              "      <td>0.192321</td>\n",
              "      <td>0.023470</td>\n",
              "      <td>0.205025</td>\n",
              "      <td>-0.270619</td>\n",
              "      <td>1.000000</td>\n",
              "      <td>-0.058260</td>\n",
              "      <td>0.126698</td>\n",
              "      <td>0.171259</td>\n",
              "      <td>0.042863</td>\n",
              "    </tr>\n",
              "    <tr>\n",
              "      <th>SleepTime</th>\n",
              "      <td>0.010834</td>\n",
              "      <td>-0.048653</td>\n",
              "      <td>-0.027874</td>\n",
              "      <td>-0.003172</td>\n",
              "      <td>0.013697</td>\n",
              "      <td>-0.058406</td>\n",
              "      <td>-0.117078</td>\n",
              "      <td>-0.019155</td>\n",
              "      <td>0.014901</td>\n",
              "      <td>0.105025</td>\n",
              "      <td>-0.037583</td>\n",
              "      <td>-0.002654</td>\n",
              "      <td>-0.000157</td>\n",
              "      <td>-0.058260</td>\n",
              "      <td>1.000000</td>\n",
              "      <td>-0.045368</td>\n",
              "      <td>0.008028</td>\n",
              "      <td>0.043241</td>\n",
              "    </tr>\n",
              "    <tr>\n",
              "      <th>Asthma</th>\n",
              "      <td>0.035784</td>\n",
              "      <td>0.087563</td>\n",
              "      <td>0.017545</td>\n",
              "      <td>-0.007114</td>\n",
              "      <td>0.034942</td>\n",
              "      <td>0.110083</td>\n",
              "      <td>0.105266</td>\n",
              "      <td>0.095826</td>\n",
              "      <td>0.067960</td>\n",
              "      <td>-0.058823</td>\n",
              "      <td>0.012750</td>\n",
              "      <td>0.039351</td>\n",
              "      <td>-0.032140</td>\n",
              "      <td>0.126698</td>\n",
              "      <td>-0.045368</td>\n",
              "      <td>1.000000</td>\n",
              "      <td>0.035826</td>\n",
              "      <td>-0.005101</td>\n",
              "    </tr>\n",
              "    <tr>\n",
              "      <th>KidneyDisease</th>\n",
              "      <td>0.142672</td>\n",
              "      <td>0.047796</td>\n",
              "      <td>0.031890</td>\n",
              "      <td>-0.031166</td>\n",
              "      <td>0.089109</td>\n",
              "      <td>0.138219</td>\n",
              "      <td>0.032105</td>\n",
              "      <td>0.149471</td>\n",
              "      <td>0.007579</td>\n",
              "      <td>0.126541</td>\n",
              "      <td>-0.017029</td>\n",
              "      <td>0.100402</td>\n",
              "      <td>-0.077304</td>\n",
              "      <td>0.171259</td>\n",
              "      <td>0.008028</td>\n",
              "      <td>0.035826</td>\n",
              "      <td>1.000000</td>\n",
              "      <td>0.059984</td>\n",
              "    </tr>\n",
              "    <tr>\n",
              "      <th>SkinCancer</th>\n",
              "      <td>0.090644</td>\n",
              "      <td>-0.038060</td>\n",
              "      <td>0.030438</td>\n",
              "      <td>-0.008739</td>\n",
              "      <td>0.046039</td>\n",
              "      <td>0.036753</td>\n",
              "      <td>-0.040214</td>\n",
              "      <td>0.060596</td>\n",
              "      <td>-0.015846</td>\n",
              "      <td>0.267930</td>\n",
              "      <td>-0.126016</td>\n",
              "      <td>0.018871</td>\n",
              "      <td>0.004785</td>\n",
              "      <td>0.042863</td>\n",
              "      <td>0.043241</td>\n",
              "      <td>-0.005101</td>\n",
              "      <td>0.059984</td>\n",
              "      <td>1.000000</td>\n",
              "    </tr>\n",
              "  </tbody>\n",
              "</table>\n",
              "</div>"
            ],
            "text/plain": [
              "                  HeartDisease       BMI   Smoking  AlcoholDrinking    Stroke  \\\n",
              "HeartDisease          1.000000  0.047260  0.104524        -0.036289  0.194665   \n",
              "BMI                   0.047260  1.000000  0.015890        -0.043463  0.016314   \n",
              "Smoking               0.104524  0.015890  1.000000         0.109183  0.058868   \n",
              "AlcoholDrinking      -0.036289 -0.043463  0.109183         1.000000 -0.022707   \n",
              "Stroke                0.194665  0.016314  0.058868        -0.022707  1.000000   \n",
              "PhysicalHealth        0.165235  0.103813  0.110270        -0.023255  0.132966   \n",
              "MentalHealth          0.020913  0.056724  0.078364         0.045421  0.041324   \n",
              "DiffWalking           0.196420  0.177388  0.115789        -0.041135  0.170664   \n",
              "Sex                  -0.074435 -0.024200 -0.087514        -0.006824  0.001343   \n",
              "AgeCategory           0.239259 -0.006069  0.128259        -0.060761  0.141537   \n",
              "Race                 -0.047409  0.012706 -0.070906        -0.026971 -0.019633   \n",
              "Diabetic              0.119695  0.165152  0.033872        -0.051565  0.073034   \n",
              "PhysicalActivity     -0.093597 -0.144441 -0.089864         0.024408 -0.074898   \n",
              "GenHealth             0.237920  0.221339  0.164441        -0.039991  0.164449   \n",
              "SleepTime             0.010834 -0.048653 -0.027874        -0.003172  0.013697   \n",
              "Asthma                0.035784  0.087563  0.017545        -0.007114  0.034942   \n",
              "KidneyDisease         0.142672  0.047796  0.031890        -0.031166  0.089109   \n",
              "SkinCancer            0.090644 -0.038060  0.030438        -0.008739  0.046039   \n",
              "\n",
              "                  PhysicalHealth  MentalHealth  DiffWalking       Sex  \\\n",
              "HeartDisease            0.165235      0.020913     0.196420 -0.074435   \n",
              "BMI                     0.103813      0.056724     0.177388 -0.024200   \n",
              "Smoking                 0.110270      0.078364     0.115789 -0.087514   \n",
              "AlcoholDrinking        -0.023255      0.045421    -0.041135 -0.006824   \n",
              "Stroke                  0.132966      0.041324     0.170664  0.001343   \n",
              "PhysicalHealth          1.000000      0.279657     0.422935  0.038427   \n",
              "MentalHealth            0.279657      1.000000     0.142964  0.098916   \n",
              "DiffWalking             0.422935      0.142964     1.000000  0.067335   \n",
              "Sex                     0.038427      0.098916     0.067335  1.000000   \n",
              "AgeCategory             0.114623     -0.158608     0.250407  0.060620   \n",
              "Race                   -0.009979      0.014840    -0.011927 -0.003698   \n",
              "Diabetic                0.110271      0.023699     0.153223  0.032500   \n",
              "PhysicalActivity       -0.224121     -0.084274    -0.271748 -0.045309   \n",
              "GenHealth               0.480076      0.230043     0.409798  0.022366   \n",
              "SleepTime              -0.058406     -0.117078    -0.019155  0.014901   \n",
              "Asthma                  0.110083      0.105266     0.095826  0.067960   \n",
              "KidneyDisease           0.138219      0.032105     0.149471  0.007579   \n",
              "SkinCancer              0.036753     -0.040214     0.060596 -0.015846   \n",
              "\n",
              "                  AgeCategory      Race  Diabetic  PhysicalActivity  \\\n",
              "HeartDisease         0.239259 -0.047409  0.119695         -0.093597   \n",
              "BMI                 -0.006069  0.012706  0.165152         -0.144441   \n",
              "Smoking              0.128259 -0.070906  0.033872         -0.089864   \n",
              "AlcoholDrinking     -0.060761 -0.026971 -0.051565          0.024408   \n",
              "Stroke               0.141537 -0.019633  0.073034         -0.074898   \n",
              "PhysicalHealth       0.114623 -0.009979  0.110271         -0.224121   \n",
              "MentalHealth        -0.158608  0.014840  0.023699         -0.084274   \n",
              "DiffWalking          0.250407 -0.011927  0.153223         -0.271748   \n",
              "Sex                  0.060620 -0.003698  0.032500         -0.045309   \n",
              "AgeCategory          1.000000 -0.203820  0.155818         -0.125294   \n",
              "Race                -0.203820  1.000000  0.031265         -0.038309   \n",
              "Diabetic             0.155818  0.031265  1.000000         -0.094784   \n",
              "PhysicalActivity    -0.125294 -0.038309 -0.094784          1.000000   \n",
              "GenHealth            0.192321  0.023470  0.205025         -0.270619   \n",
              "SleepTime            0.105025 -0.037583 -0.002654         -0.000157   \n",
              "Asthma              -0.058823  0.012750  0.039351         -0.032140   \n",
              "KidneyDisease        0.126541 -0.017029  0.100402         -0.077304   \n",
              "SkinCancer           0.267930 -0.126016  0.018871          0.004785   \n",
              "\n",
              "                  GenHealth  SleepTime    Asthma  KidneyDisease  SkinCancer  \n",
              "HeartDisease       0.237920   0.010834  0.035784       0.142672    0.090644  \n",
              "BMI                0.221339  -0.048653  0.087563       0.047796   -0.038060  \n",
              "Smoking            0.164441  -0.027874  0.017545       0.031890    0.030438  \n",
              "AlcoholDrinking   -0.039991  -0.003172 -0.007114      -0.031166   -0.008739  \n",
              "Stroke             0.164449   0.013697  0.034942       0.089109    0.046039  \n",
              "PhysicalHealth     0.480076  -0.058406  0.110083       0.138219    0.036753  \n",
              "MentalHealth       0.230043  -0.117078  0.105266       0.032105   -0.040214  \n",
              "DiffWalking        0.409798  -0.019155  0.095826       0.149471    0.060596  \n",
              "Sex                0.022366   0.014901  0.067960       0.007579   -0.015846  \n",
              "AgeCategory        0.192321   0.105025 -0.058823       0.126541    0.267930  \n",
              "Race               0.023470  -0.037583  0.012750      -0.017029   -0.126016  \n",
              "Diabetic           0.205025  -0.002654  0.039351       0.100402    0.018871  \n",
              "PhysicalActivity  -0.270619  -0.000157 -0.032140      -0.077304    0.004785  \n",
              "GenHealth          1.000000  -0.058260  0.126698       0.171259    0.042863  \n",
              "SleepTime         -0.058260   1.000000 -0.045368       0.008028    0.043241  \n",
              "Asthma             0.126698  -0.045368  1.000000       0.035826   -0.005101  \n",
              "KidneyDisease      0.171259   0.008028  0.035826       1.000000    0.059984  \n",
              "SkinCancer         0.042863   0.043241 -0.005101       0.059984    1.000000  "
            ]
          },
          "execution_count": 77,
          "metadata": {},
          "output_type": "execute_result"
        }
      ],
      "source": [
        "#melihat korelasi antar variabel data\n",
        "df.corr()"
      ]
    },
    {
      "cell_type": "markdown",
      "metadata": {
        "id": "ssB_BwBUT1Kw"
      },
      "source": [
        "**Koefisien korelasi adalah ukuran statistik yang menunjukkan kekuatan dan arah hubungan linier antara dua variabel. Kisarannya dari -1 hingga 1:**\n",
        "\n",
        "\n",
        "*   -1: Korelasi negatif sempurna (jika satu variabel meningkat, variabel lainnya menurun secara proporsional)\n",
        "*   0: Tidak ada korelasi linier\n",
        "*   1: Korelasi positif sempurna (jika satu variabel meningkat, variabel lainnya meningkat secara proporsional)"
      ]
    },
    {
      "cell_type": "code",
      "execution_count": 78,
      "metadata": {
        "colab": {
          "base_uri": "https://localhost:8080/",
          "height": 486
        },
        "id": "Qkey0dakp-KD",
        "outputId": "9e2a65bf-4195-4829-fadc-e60b40309dfe"
      },
      "outputs": [
        {
          "data": {
            "text/plain": [
              "<Axes: >"
            ]
          },
          "execution_count": 78,
          "metadata": {},
          "output_type": "execute_result"
        },
        {
          "data": {
            "image/png": "[encoded data removed]",
            "text/plain": [
              "<Figure size 600x400 with 2 Axes>"
            ]
          },
          "metadata": {},
          "output_type": "display_data"
        }
      ],
      "source": [
        "plt.figure(figsize=(6, 4))\n",
        "sns.heatmap(df.corr(), cmap = 'BuPu')"
      ]
    },
    {
      "cell_type": "markdown",
      "metadata": {
        "id": "aJZW6ODlomgh"
      },
      "source": [
        "semakin gelap warna, maka semakin kuat nilai korelasi antar variable data"
      ]
    },
    {
      "cell_type": "code",
      "execution_count": 79,
      "metadata": {
        "colab": {
          "base_uri": "https://localhost:8080/",
          "height": 465
        },
        "id": "nfK0NRCg7SKL",
        "outputId": "a14ccd58-bf12-4923-a6bb-bf98c9aa371e"
      },
      "outputs": [
        {
          "data": {
            "image/png": "[encoded data removed]",
            "text/plain": [
              "<Figure size 1500x800 with 4 Axes>"
            ]
          },
          "metadata": {},
          "output_type": "display_data"
        }
      ],
      "source": [
        "fig,axes = plt.subplots(2,2,figsize=(15,8))\n",
        "\n",
        "sns.histplot(data=df,x='HeartDisease', ax=axes[0,0],color='skyblue')\n",
        "sns.histplot(data=df,x='Sex', ax=axes[0,1],color='skyblue')\n",
        "sns.histplot(data=df,x='AgeCategory', ax=axes[1,0],color='skyblue')\n",
        "sns.histplot(data=df,x='GenHealth', ax=axes[1,1],color='skyblue')\n",
        "\n",
        "\n",
        "plt.show()"
      ]
    },
    {
      "cell_type": "code",
      "execution_count": 80,
      "metadata": {
        "colab": {
          "base_uri": "https://localhost:8080/"
        },
        "id": "96UCKl0FgYQv",
        "outputId": "95ce3203-3f33-4aa4-d524-bff7c09d54fc"
      },
      "outputs": [
        {
          "name": "stdout",
          "output_type": "stream",
          "text": [
            "Feature 'HeartDisease' has '2' unique values\n",
            "Feature 'BMI' has '3604' unique values\n",
            "Feature 'Smoking' has '2' unique values\n",
            "Feature 'AlcoholDrinking' has '2' unique values\n",
            "Feature 'Stroke' has '2' unique values\n",
            "Feature 'PhysicalHealth' has '31' unique values\n",
            "Feature 'MentalHealth' has '31' unique values\n",
            "Feature 'DiffWalking' has '2' unique values\n",
            "Feature 'Sex' has '2' unique values\n",
            "Feature 'AgeCategory' has '13' unique values\n",
            "Feature 'Race' has '6' unique values\n",
            "Feature 'Diabetic' has '4' unique values\n",
            "Feature 'PhysicalActivity' has '2' unique values\n",
            "Feature 'GenHealth' has '5' unique values\n",
            "Feature 'SleepTime' has '24' unique values\n",
            "Feature 'Asthma' has '2' unique values\n",
            "Feature 'KidneyDisease' has '2' unique values\n",
            "Feature 'SkinCancer' has '2' unique values\n"
          ]
        }
      ],
      "source": [
        "#gambaran mengenai distribusi nilai dalam setiap kolom\n",
        "for column_name in df.columns:\n",
        "    unique_values = len(df[column_name].unique())\n",
        "    print(\"Feature '{column_name}' has '{unique_values}' unique values\".format(column_name = column_name,unique_values=unique_values))"
      ]
    },
    {
      "cell_type": "markdown",
      "metadata": {
        "id": "6rnFeC7ZJiob"
      },
      "source": [
        "Terlihat terdapat data outlier pada variabel BMI, namun karena data BMI ini penting jadi tidak akan di hapus data outlier ini"
      ]
    },
    {
      "cell_type": "markdown",
      "metadata": {
        "id": "7PhoJ0xXpLd3"
      },
      "source": [
        "## Transformasi Data"
      ]
    },
    {
      "cell_type": "code",
      "execution_count": 81,
      "metadata": {
        "colab": {
          "base_uri": "https://localhost:8080/"
        },
        "id": "FChc2_2QMI7O",
        "outputId": "33ca3625-d0d7-4d48-ca31-8bdd8dbb6188"
      },
      "outputs": [
        {
          "name": "stdout",
          "output_type": "stream",
          "text": [
            "[[-0.31516249 -1.83082001  1.169689   ...  2.46456684 -0.20153203\n",
            "   3.04964275]\n",
            " [-0.31516249 -1.25259976 -0.8549281  ... -0.40575081 -0.20153203\n",
            "  -0.32790726]\n",
            " [-0.31516249 -0.28786867  1.169689   ...  2.46456684 -0.20153203\n",
            "  -0.32790726]\n",
            " ...\n",
            " [-0.31516249 -0.64964283 -0.8549281  ... -0.40575081 -0.20153203\n",
            "  -0.32790726]\n",
            " [-0.31516249  0.67531639 -0.8549281  ... -0.40575081 -0.20153203\n",
            "  -0.32790726]\n",
            " [-0.31516249  2.8011261  -0.8549281  ... -0.40575081 -0.20153203\n",
            "  -0.32790726]]\n"
          ]
        }
      ],
      "source": [
        "# Scaling\n",
        "## membantu meningkatkan performa model machine learning dan mempermudah interpretasi hasil model\n",
        "scaler = StandardScaler()\n",
        "scaled_df = scaler.fit_transform(df)\n",
        "print(scaled_df)"
      ]
    },
    {
      "cell_type": "markdown",
      "metadata": {
        "id": "8MiVZF_vaUJ7"
      },
      "source": [
        "## Fitur Selection\n"
      ]
    },
    {
      "cell_type": "code",
      "execution_count": 82,
      "metadata": {
        "colab": {
          "base_uri": "https://localhost:8080/"
        },
        "id": "MC5KeQqUGxLu",
        "outputId": "0a77e05f-c2fc-4c0f-cc65-5783ea066f86"
      },
      "outputs": [
        {
          "name": "stdout",
          "output_type": "stream",
          "text": [
            "Fitur: BMI - Ranking: 7\n",
            "Fitur: Smoking - Ranking: 1\n",
            "Fitur: AlcoholDrinking - Ranking: 1\n",
            "Fitur: Stroke - Ranking: 1\n",
            "Fitur: PhysicalHealth - Ranking: 4\n",
            "Fitur: MentalHealth - Ranking: 8\n",
            "Fitur: DiffWalking - Ranking: 1\n",
            "Fitur: Sex - Ranking: 1\n",
            "Fitur: AgeCategory - Ranking: 2\n",
            "Fitur: Race - Ranking: 3\n",
            "Fitur: Diabetic - Ranking: 1\n",
            "Fitur: PhysicalActivity - Ranking: 6\n",
            "Fitur: GenHealth - Ranking: 1\n",
            "Fitur: SleepTime - Ranking: 5\n",
            "Fitur: Asthma - Ranking: 1\n",
            "Fitur: KidneyDisease - Ranking: 1\n",
            "Fitur: SkinCancer - Ranking: 1\n"
          ]
        }
      ],
      "source": [
        "# Wrapper Methods\n",
        "# Recursive Feature Elimination (RFE)\n",
        "\n",
        "x = df.drop(\"HeartDisease\", axis=1)\n",
        "#x = df.drop (\"Race\", axis=1)\n",
        "y = df[\"HeartDisease\"]\n",
        "\n",
        "# Memilih 10 fitur terbaik dengan RFE dan regresi linier\n",
        "selector = RFE(estimator=LinearRegression(), n_features_to_select=10)\n",
        "selected_features = selector.fit_transform(x, y)\n",
        "\n",
        "# Melihat ranking fitur berdasarkan RFE\n",
        "ranking = selector.ranking_\n",
        "\n",
        "# Menampilkan nama fitur dan rankingnya\n",
        "features_names = x.columns\n",
        "for i, rank in enumerate(ranking):\n",
        "    print(f\"Fitur: {features_names[i]} - Ranking: {rank}\")"
      ]
    },
    {
      "cell_type": "markdown",
      "metadata": {
        "id": "XJPhSO0nyn5d"
      },
      "source": [
        "## METODE UNDERSAMPLING"
      ]
    },
    {
      "cell_type": "code",
      "execution_count": 83,
      "metadata": {
        "colab": {
          "base_uri": "https://localhost:8080/",
          "height": 573
        },
        "id": "wajBzKqSfKDY",
        "outputId": "672620d3-254d-4757-88c2-53fd6bdd4a36"
      },
      "outputs": [
        {
          "name": "stderr",
          "output_type": "stream",
          "text": [
            "C:\\Users\\M S I\\AppData\\Local\\Temp\\ipykernel_13104\\1611175011.py:1: FutureWarning: \n",
            "\n",
            "Passing `palette` without assigning `hue` is deprecated and will be removed in v0.14.0. Assign the `x` variable to `hue` and set `legend=False` for the same effect.\n",
            "\n",
            "  sns.countplot(x='HeartDisease',data=df, palette='pastel')\n"
          ]
        },
        {
          "data": {
            "text/plain": [
              "<Axes: xlabel='HeartDisease', ylabel='count'>"
            ]
          },
          "execution_count": 83,
          "metadata": {},
          "output_type": "execute_result"
        },
        {
          "data": {
            "image/png": "[encoded data removed]",
            "text/plain": [
              "<Figure size 640x480 with 1 Axes>"
            ]
          },
          "metadata": {},
          "output_type": "display_data"
        }
      ],
      "source": [
        "sns.countplot(x='HeartDisease',data=df, palette='pastel')"
      ]
    },
    {
      "cell_type": "code",
      "execution_count": 84,
      "metadata": {
        "id": "8eIsOVof4c9I"
      },
      "outputs": [
        {
          "name": "stdout",
          "output_type": "stream",
          "text": [
            "Before resampling:\n",
            "[24300  2700]\n",
            "After resampling:\n",
            "[2700 2700]\n"
          ]
        }
      ],
      "source": [
        "from imblearn.under_sampling import RandomUnderSampler\n",
        "from sklearn.datasets import make_classification\n",
        "\n",
        "# Generate a random imbalanced dataset\n",
        "X, y = make_classification(n_classes=2, class_sep=2,\n",
        "weights=[0.9, 0.1], n_informative=10,\n",
        "n_redundant=7, flip_y=0, n_features=17,\n",
        "n_clusters_per_class=1, n_samples=27000,\n",
        "random_state=10)\n",
        "\n",
        "# Initialize the RandomUnderSampler\n",
        "rus = RandomUnderSampler(random_state=0)\n",
        "\n",
        "# Fit and transform the dataset\n",
        "X_resampled, y_resampled = rus.fit_resample(X, y)\n",
        "\n",
        "# Print the number of samples in each class before and after resampling\n",
        "print(\"Before resampling:\")\n",
        "print(np.bincount(y))\n",
        "print(\"After resampling:\")\n",
        "print(np.bincount(y_resampled))"
      ]
    },
    {
      "cell_type": "code",
      "execution_count": 85,
      "metadata": {
        "id": "d9ds2wqc90to"
      },
      "outputs": [],
      "source": [
        "x = df.drop(['HeartDisease'],axis=1) # x nya adalah atribut yang mempengaruhi penyakit jantung\n",
        "y = df['HeartDisease'] # y nya adalah label itu sendiri"
      ]
    },
    {
      "cell_type": "code",
      "execution_count": 86,
      "metadata": {},
      "outputs": [],
      "source": [
        "x = df.drop(['Race'], axis=1)"
      ]
    },
    {
      "cell_type": "code",
      "execution_count": 87,
      "metadata": {
        "colab": {
          "base_uri": "https://localhost:8080/"
        },
        "id": "uRQVPbvb-yDa",
        "outputId": "8d10d32f-37f7-4ad2-b984-df79a6653929"
      },
      "outputs": [
        {
          "name": "stdout",
          "output_type": "stream",
          "text": [
            "(301717, 17)\n",
            "(301717,)\n"
          ]
        }
      ],
      "source": [
        "# sebelum undersampling\n",
        "print(x.shape)\n",
        "print(y.shape)"
      ]
    },
    {
      "cell_type": "code",
      "execution_count": 88,
      "metadata": {
        "colab": {
          "base_uri": "https://localhost:8080/"
        },
        "id": "3ie3dFIsARzy",
        "outputId": "541e0f9d-bd01-4641-c0ac-e20ce4a18ab0"
      },
      "outputs": [
        {
          "name": "stdout",
          "output_type": "stream",
          "text": [
            "(5400, 17)\n",
            "(5400,)\n"
          ]
        }
      ],
      "source": [
        "# jumlah data setelah dilakukan undersampling\n",
        "print(X_resampled.shape)\n",
        "print(y_resampled.shape)"
      ]
    },
    {
      "cell_type": "markdown",
      "metadata": {},
      "source": []
    },
    {
      "cell_type": "code",
      "execution_count": 89,
      "metadata": {
        "colab": {
          "base_uri": "https://localhost:8080/",
          "height": 542
        },
        "id": "z5TWuH-iAvtb",
        "outputId": "414544fd-f940-4bf2-c499-71601acf8c0f"
      },
      "outputs": [
        {
          "data": {
            "image/png": "[encoded data removed]",
            "text/plain": [
              "<Figure size 900x600 with 1 Axes>"
            ]
          },
          "metadata": {},
          "output_type": "display_data"
        }
      ],
      "source": [
        "fig = plt.subplots(figsize=(9,6))\n",
        "sns.histplot(data=y_resampled)\n",
        "plt.show()\n"
      ]
    },
    {
      "cell_type": "markdown",
      "metadata": {
        "id": "e8uwqfNspekq"
      },
      "source": [
        "##Metode berhasil diterapkan, saat ini data penderita penyakit jantung sudah sama dengan yang tidak menderita penyakit jantung"
      ]
    },
    {
      "cell_type": "markdown",
      "metadata": {
        "id": "WmzxBNSSqv1e"
      },
      "source": [
        "## split data\n"
      ]
    },
    {
      "cell_type": "code",
      "execution_count": 90,
      "metadata": {
        "colab": {
          "base_uri": "https://localhost:8080/"
        },
        "id": "996RGngXrCP2",
        "outputId": "13e1f4a9-a092-4013-b901-c0de7fdd6ba4"
      },
      "outputs": [
        {
          "name": "stdout",
          "output_type": "stream",
          "text": [
            "X :  (5400, 17)\n",
            "y :  (5400,)\n"
          ]
        }
      ],
      "source": [
        "X = df.drop(columns=['HeartDisease'])\n",
        "y = df['HeartDisease']\n",
        "\n",
        "print(\"X : \", X_resampled.shape)\n",
        "print(\"y : \", y_resampled.shape)\n"
      ]
    },
    {
      "cell_type": "code",
      "execution_count": 91,
      "metadata": {},
      "outputs": [
        {
          "name": "stdout",
          "output_type": "stream",
          "text": [
            "<class 'pandas.core.frame.DataFrame'>\n",
            "Index: 301717 entries, 0 to 319794\n",
            "Data columns (total 18 columns):\n",
            " #   Column            Non-Null Count   Dtype  \n",
            "---  ------            --------------   -----  \n",
            " 0   HeartDisease      301717 non-null  int64  \n",
            " 1   BMI               301717 non-null  float64\n",
            " 2   Smoking           301717 non-null  int64  \n",
            " 3   AlcoholDrinking   301717 non-null  int64  \n",
            " 4   Stroke            301717 non-null  int64  \n",
            " 5   PhysicalHealth    301717 non-null  int64  \n",
            " 6   MentalHealth      301717 non-null  int64  \n",
            " 7   DiffWalking       301717 non-null  int64  \n",
            " 8   Sex               301717 non-null  int64  \n",
            " 9   AgeCategory       301717 non-null  int64  \n",
            " 10  Race              301717 non-null  int64  \n",
            " 11  Diabetic          301717 non-null  int64  \n",
            " 12  PhysicalActivity  301717 non-null  int64  \n",
            " 13  GenHealth         301717 non-null  int64  \n",
            " 14  SleepTime         301717 non-null  int64  \n",
            " 15  Asthma            301717 non-null  int64  \n",
            " 16  KidneyDisease     301717 non-null  int64  \n",
            " 17  SkinCancer        301717 non-null  int64  \n",
            "dtypes: float64(1), int64(17)\n",
            "memory usage: 43.7 MB\n"
          ]
        }
      ],
      "source": [
        "df.info()"
      ]
    },
    {
      "cell_type": "code",
      "execution_count": 92,
      "metadata": {
        "id": "-zvw_qgTqyf6"
      },
      "outputs": [],
      "source": [
        "scaler = StandardScaler()\n",
        "scaler.fit(X)\n",
        "X = scaler.transform(X)"
      ]
    },
    {
      "cell_type": "code",
      "execution_count": 93,
      "metadata": {},
      "outputs": [],
      "source": [
        "scaler = StandardScaler()\n",
        "\n",
        "# Fit the scaler on the resampled data\n",
        "scaler.fit(X_resampled)\n",
        "\n",
        "# Transform the resampled data using the fitted scaler\n",
        "X_transformed = scaler.transform(X_resampled)\n"
      ]
    },
    {
      "cell_type": "code",
      "execution_count": 94,
      "metadata": {
        "id": "IFkdvGu23f0a"
      },
      "outputs": [],
      "source": [
        "from sklearn.model_selection import train_test_split\n",
        "\n",
        "# Tentukan ukuran test set (misal: 20%)\n",
        "test_size = 0.2\n",
        "\n",
        "# Split data menjadi training set dan test set\n",
        "X_train, X_test, y_train, y_test = train_test_split(X_resampled, y_resampled, test_size=test_size, random_state=42)\n"
      ]
    },
    {
      "cell_type": "markdown",
      "metadata": {
        "id": "lC3twbBCpr32"
      },
      "source": [
        "## Modelling SVM (support vector machine)"
      ]
    },
    {
      "cell_type": "code",
      "execution_count": 95,
      "metadata": {
        "id": "R97wUyQIpeAu"
      },
      "outputs": [
        {
          "name": "stdout",
          "output_type": "stream",
          "text": [
            "              precision    recall  f1-score   support\n",
            "\n",
            "           0       1.00      0.99      0.99       557\n",
            "           1       0.99      1.00      0.99       523\n",
            "\n",
            "    accuracy                           0.99      1080\n",
            "   macro avg       0.99      0.99      0.99      1080\n",
            "weighted avg       0.99      0.99      0.99      1080\n",
            "\n",
            "Akurasi SVM : 99.26%\n"
          ]
        }
      ],
      "source": [
        "clf = SVC(kernel = 'linear')\n",
        "clf.fit(X_train, y_train)\n",
        "\n",
        "y_pred = clf.predict(X_test)\n",
        "CLF_acc = accuracy_score(y_pred, y_test)\n",
        "\n",
        "print(classification_report(y_test, y_pred))\n",
        "print(\"Akurasi SVM : {:.2f}%\".format(CLF_acc*100))"
      ]
    },
    {
      "cell_type": "code",
      "execution_count": 96,
      "metadata": {},
      "outputs": [
        {
          "name": "stdout",
          "output_type": "stream",
          "text": [
            "              precision    recall  f1-score   support\n",
            "\n",
            "           0       1.00      0.99      1.00       557\n",
            "           1       0.99      1.00      1.00       523\n",
            "\n",
            "    accuracy                           1.00      1080\n",
            "   macro avg       1.00      1.00      1.00      1080\n",
            "weighted avg       1.00      1.00      1.00      1080\n",
            "\n",
            "Akurasi SVM : 99.54%\n"
          ]
        }
      ],
      "source": [
        "clf = SVC(kernel = 'poly' , degree=3, C=1.0)\n",
        "clf.fit(X_train, y_train)\n",
        "\n",
        "y_pred = clf.predict(X_test)\n",
        "CLF_acc = accuracy_score(y_pred, y_test)\n",
        "\n",
        "print(classification_report(y_test, y_pred))\n",
        "print(\"Akurasi SVM : {:.2f}%\".format(CLF_acc*100))"
      ]
    },
    {
      "cell_type": "code",
      "execution_count": 97,
      "metadata": {},
      "outputs": [
        {
          "name": "stdout",
          "output_type": "stream",
          "text": [
            "              precision    recall  f1-score   support\n",
            "\n",
            "           0       0.86      0.82      0.84       557\n",
            "           1       0.82      0.86      0.84       523\n",
            "\n",
            "    accuracy                           0.84      1080\n",
            "   macro avg       0.84      0.84      0.84      1080\n",
            "weighted avg       0.84      0.84      0.84      1080\n",
            "\n",
            "Akurasi SVM : 83.80%\n"
          ]
        }
      ],
      "source": [
        "clf = SVC(kernel = 'sigmoid' , gamma=1.0)\n",
        "clf.fit(X_train, y_train)\n",
        "\n",
        "y_pred = clf.predict(X_test)\n",
        "CLF_acc = accuracy_score(y_pred, y_test)\n",
        "\n",
        "print(classification_report(y_test, y_pred))\n",
        "print(\"Akurasi SVM : {:.2f}%\".format(CLF_acc*100))"
      ]
    },
    {
      "cell_type": "code",
      "execution_count": 98,
      "metadata": {},
      "outputs": [
        {
          "name": "stdout",
          "output_type": "stream",
          "text": [
            "              precision    recall  f1-score   support\n",
            "\n",
            "           0       1.00      0.96      0.98       557\n",
            "           1       0.96      1.00      0.98       523\n",
            "\n",
            "    accuracy                           0.98      1080\n",
            "   macro avg       0.98      0.98      0.98      1080\n",
            "weighted avg       0.98      0.98      0.98      1080\n",
            "\n",
            "Akurasi SVM : 97.96%\n"
          ]
        }
      ],
      "source": [
        "clf = SVC(kernel = 'rbf' , gamma=0.1)\n",
        "clf.fit(X_train, y_train)\n",
        "\n",
        "y_pred = clf.predict(X_test)\n",
        "CLF_acc = accuracy_score(y_pred, y_test)\n",
        "\n",
        "print(classification_report(y_test, y_pred))\n",
        "print(\"Akurasi SVM : {:.2f}%\".format(CLF_acc*100))"
      ]
    },
    {
      "cell_type": "code",
      "execution_count": 99,
      "metadata": {},
      "outputs": [
        {
          "name": "stdout",
          "output_type": "stream",
          "text": [
            "Validation Accuracy: 0.9953703703703703\n",
            "Test Accuracy: 0.9953703703703703\n",
            "              precision    recall  f1-score   support\n",
            "\n",
            "           0       1.00      0.99      1.00       557\n",
            "           1       0.99      1.00      1.00       523\n",
            "\n",
            "    accuracy                           1.00      1080\n",
            "   macro avg       1.00      1.00      1.00      1080\n",
            "weighted avg       1.00      1.00      1.00      1080\n",
            "\n"
          ]
        }
      ],
      "source": [
        "from sklearn.model_selection import train_test_split\n",
        "from sklearn.svm import SVC\n",
        "from sklearn.metrics import accuracy_score\n",
        "\n",
        "# Assuming your data is stored in X and target variable in y\n",
        "X_train, X_val, y_train, y_val = train_test_split(X_resampled, y_resampled, test_size=0.2, random_state=42)  # Split data for training and validation\n",
        "\n",
        "# Define your SVM model with polynomial kernel\n",
        "clf = SVC(kernel='poly', degree=3, C=1.0)\n",
        "\n",
        "# Train the SVM model\n",
        "clf.fit(X_train, y_train)\n",
        "\n",
        "# Make predictions on validation data\n",
        "y_pred_val = clf.predict(X_val)\n",
        "\n",
        "# Calculate val_accuracy\n",
        "val_accuracy = accuracy_score(y_val, y_pred_val)\n",
        "print(\"Validation Accuracy:\", val_accuracy)\n",
        "\n",
        "# Make predictions on test data (optional)\n",
        "y_pred_test = clf.predict(X_test)\n",
        "test_accuracy = accuracy_score(y_test, y_pred_test)\n",
        "print(\"Test Accuracy:\", test_accuracy)\n",
        "\n",
        "# You can also use classification_report on validation data\n",
        "print(classification_report(y_val, y_pred_val))\n"
      ]
    },
    {
      "cell_type": "markdown",
      "metadata": {},
      "source": [
        "K-FOLD"
      ]
    },
    {
      "cell_type": "code",
      "execution_count": 100,
      "metadata": {},
      "outputs": [
        {
          "name": "stdout",
          "output_type": "stream",
          "text": [
            "Fold Accuracy: 0.9976851851851852\n",
            "              precision    recall  f1-score   support\n",
            "\n",
            "           0       1.00      1.00      1.00       428\n",
            "           1       1.00      1.00      1.00       436\n",
            "\n",
            "    accuracy                           1.00       864\n",
            "   macro avg       1.00      1.00      1.00       864\n",
            "weighted avg       1.00      1.00      1.00       864\n",
            "\n",
            "Fold Accuracy: 0.9976851851851852\n",
            "              precision    recall  f1-score   support\n",
            "\n",
            "           0       1.00      1.00      1.00       428\n",
            "           1       1.00      1.00      1.00       436\n",
            "\n",
            "    accuracy                           1.00       864\n",
            "   macro avg       1.00      1.00      1.00       864\n",
            "weighted avg       1.00      1.00      1.00       864\n",
            "\n",
            "Fold Accuracy: 0.9976851851851852\n",
            "              precision    recall  f1-score   support\n",
            "\n",
            "           0       1.00      1.00      1.00       429\n",
            "           1       1.00      1.00      1.00       435\n",
            "\n",
            "    accuracy                           1.00       864\n",
            "   macro avg       1.00      1.00      1.00       864\n",
            "weighted avg       1.00      1.00      1.00       864\n",
            "\n",
            "Fold Accuracy: 0.9988425925925926\n",
            "              precision    recall  f1-score   support\n",
            "\n",
            "           0       1.00      1.00      1.00       429\n",
            "           1       1.00      1.00      1.00       435\n",
            "\n",
            "    accuracy                           1.00       864\n",
            "   macro avg       1.00      1.00      1.00       864\n",
            "weighted avg       1.00      1.00      1.00       864\n",
            "\n",
            "Fold Accuracy: 0.9988425925925926\n",
            "              precision    recall  f1-score   support\n",
            "\n",
            "           0       1.00      1.00      1.00       429\n",
            "           1       1.00      1.00      1.00       435\n",
            "\n",
            "    accuracy                           1.00       864\n",
            "   macro avg       1.00      1.00      1.00       864\n",
            "weighted avg       1.00      1.00      1.00       864\n",
            "\n",
            "Average Accuracy: 0.9981481481481481\n",
            "Test Accuracy: 0.9925925925925926\n",
            "              precision    recall  f1-score   support\n",
            "\n",
            "           0       1.00      0.99      0.99       557\n",
            "           1       0.99      1.00      0.99       523\n",
            "\n",
            "    accuracy                           0.99      1080\n",
            "   macro avg       0.99      0.99      0.99      1080\n",
            "weighted avg       0.99      0.99      0.99      1080\n",
            "\n"
          ]
        }
      ],
      "source": [
        "import numpy as np\n",
        "from sklearn.model_selection import StratifiedKFold\n",
        "from sklearn.metrics import accuracy_score, classification_report\n",
        "from sklearn.svm import SVC\n",
        "\n",
        "# Definisikan jumlah fold\n",
        "n_splits = 5\n",
        "\n",
        "# Inisialisasi StratifiedKFold\n",
        "skf = StratifiedKFold(n_splits=n_splits, shuffle=True, random_state=42)\n",
        "\n",
        "# Inisialisasi model\n",
        "model = SVC(kernel='linear')\n",
        "\n",
        "# List untuk menyimpan hasil akurasi tiap fold\n",
        "accuracies = []\n",
        "\n",
        "# Loop melalui setiap fold\n",
        "for train_index, val_index in skf.split(X_train, y_train):\n",
        "    X_train_fold, X_val_fold = X_train[train_index], X_train[val_index]\n",
        "    y_train_fold, y_val_fold = y_train[train_index], y_train[val_index]\n",
        "    \n",
        "    # Train the model\n",
        "    model.fit(X_train_fold, y_train_fold)\n",
        "    \n",
        "    # Predict the validation set\n",
        "    y_val_pred = model.predict(X_val_fold)\n",
        "    \n",
        "    # Evaluate the model\n",
        "    accuracy = accuracy_score(y_val_fold, y_val_pred)\n",
        "    accuracies.append(accuracy)\n",
        "    \n",
        "    print(f'Fold Accuracy: {accuracy}')\n",
        "    print(classification_report(y_val_fold, y_val_pred))\n",
        "\n",
        "# Print the average accuracy across all folds\n",
        "print(f'Average Accuracy: {np.mean(accuracies)}')\n",
        "\n",
        "# Evaluate the final model on the test set\n",
        "model.fit(X_train, y_train)\n",
        "y_test_pred = model.predict(X_test)\n",
        "\n",
        "print(f'Test Accuracy: {accuracy_score(y_test, y_test_pred)}')\n",
        "print(classification_report(y_test, y_test_pred))\n"
      ]
    },
    {
      "cell_type": "code",
      "execution_count": 101,
      "metadata": {},
      "outputs": [
        {
          "name": "stdout",
          "output_type": "stream",
          "text": [
            "Fold Accuracy: 0.9988425925925926\n",
            "              precision    recall  f1-score   support\n",
            "\n",
            "           0       1.00      1.00      1.00       428\n",
            "           1       1.00      1.00      1.00       436\n",
            "\n",
            "    accuracy                           1.00       864\n",
            "   macro avg       1.00      1.00      1.00       864\n",
            "weighted avg       1.00      1.00      1.00       864\n",
            "\n",
            "Fold Accuracy: 0.9965277777777778\n",
            "              precision    recall  f1-score   support\n",
            "\n",
            "           0       1.00      1.00      1.00       428\n",
            "           1       1.00      1.00      1.00       436\n",
            "\n",
            "    accuracy                           1.00       864\n",
            "   macro avg       1.00      1.00      1.00       864\n",
            "weighted avg       1.00      1.00      1.00       864\n",
            "\n",
            "Fold Accuracy: 0.9988425925925926\n",
            "              precision    recall  f1-score   support\n",
            "\n",
            "           0       1.00      1.00      1.00       429\n",
            "           1       1.00      1.00      1.00       435\n",
            "\n",
            "    accuracy                           1.00       864\n",
            "   macro avg       1.00      1.00      1.00       864\n",
            "weighted avg       1.00      1.00      1.00       864\n",
            "\n",
            "Fold Accuracy: 0.9976851851851852\n",
            "              precision    recall  f1-score   support\n",
            "\n",
            "           0       1.00      1.00      1.00       429\n",
            "           1       1.00      1.00      1.00       435\n",
            "\n",
            "    accuracy                           1.00       864\n",
            "   macro avg       1.00      1.00      1.00       864\n",
            "weighted avg       1.00      1.00      1.00       864\n",
            "\n",
            "Fold Accuracy: 0.9988425925925926\n",
            "              precision    recall  f1-score   support\n",
            "\n",
            "           0       1.00      1.00      1.00       429\n",
            "           1       1.00      1.00      1.00       435\n",
            "\n",
            "    accuracy                           1.00       864\n",
            "   macro avg       1.00      1.00      1.00       864\n",
            "weighted avg       1.00      1.00      1.00       864\n",
            "\n",
            "Average Accuracy: 0.9981481481481481\n",
            "Test Accuracy: 0.9953703703703703\n",
            "              precision    recall  f1-score   support\n",
            "\n",
            "           0       1.00      0.99      1.00       557\n",
            "           1       0.99      1.00      1.00       523\n",
            "\n",
            "    accuracy                           1.00      1080\n",
            "   macro avg       1.00      1.00      1.00      1080\n",
            "weighted avg       1.00      1.00      1.00      1080\n",
            "\n"
          ]
        }
      ],
      "source": [
        "import numpy as np\n",
        "from sklearn.model_selection import StratifiedKFold\n",
        "from sklearn.metrics import accuracy_score, classification_report\n",
        "from sklearn.svm import SVC\n",
        "\n",
        "# Definisikan jumlah fold\n",
        "n_splits = 5\n",
        "\n",
        "# Inisialisasi StratifiedKFold\n",
        "skf = StratifiedKFold(n_splits=n_splits, shuffle=True, random_state=42)\n",
        "\n",
        "# Inisialisasi model\n",
        "model = SVC(kernel='poly')\n",
        "\n",
        "# List untuk menyimpan hasil akurasi tiap fold\n",
        "accuracies = []\n",
        "\n",
        "# Loop melalui setiap fold\n",
        "for train_index, val_index in skf.split(X_train, y_train):\n",
        "    X_train_fold, X_val_fold = X_train[train_index], X_train[val_index]\n",
        "    y_train_fold, y_val_fold = y_train[train_index], y_train[val_index]\n",
        "    \n",
        "    # Train the model\n",
        "    model.fit(X_train_fold, y_train_fold)\n",
        "    \n",
        "    # Predict the validation set\n",
        "    y_val_pred = model.predict(X_val_fold)\n",
        "    \n",
        "    # Evaluate the model\n",
        "    accuracy = accuracy_score(y_val_fold, y_val_pred)\n",
        "    accuracies.append(accuracy)\n",
        "    \n",
        "    print(f'Fold Accuracy: {accuracy}')\n",
        "    print(classification_report(y_val_fold, y_val_pred))\n",
        "\n",
        "# Print the average accuracy across all folds\n",
        "print(f'Average Accuracy: {np.mean(accuracies)}')\n",
        "\n",
        "# Evaluate the final model on the test set\n",
        "model.fit(X_train, y_train)\n",
        "y_test_pred = model.predict(X_test)\n",
        "\n",
        "print(f'Test Accuracy: {accuracy_score(y_test, y_test_pred)}')\n",
        "print(classification_report(y_test, y_test_pred))\n"
      ]
    },
    {
      "cell_type": "code",
      "execution_count": 102,
      "metadata": {},
      "outputs": [
        {
          "name": "stdout",
          "output_type": "stream",
          "text": [
            "Fold Accuracy: 0.9409722222222222\n",
            "              precision    recall  f1-score   support\n",
            "\n",
            "           0       0.94      0.94      0.94       428\n",
            "           1       0.94      0.94      0.94       436\n",
            "\n",
            "    accuracy                           0.94       864\n",
            "   macro avg       0.94      0.94      0.94       864\n",
            "weighted avg       0.94      0.94      0.94       864\n",
            "\n",
            "Fold Accuracy: 0.9537037037037037\n",
            "              precision    recall  f1-score   support\n",
            "\n",
            "           0       0.94      0.97      0.95       428\n",
            "           1       0.97      0.94      0.95       436\n",
            "\n",
            "    accuracy                           0.95       864\n",
            "   macro avg       0.95      0.95      0.95       864\n",
            "weighted avg       0.95      0.95      0.95       864\n",
            "\n",
            "Fold Accuracy: 0.9351851851851852\n",
            "              precision    recall  f1-score   support\n",
            "\n",
            "           0       0.93      0.93      0.93       429\n",
            "           1       0.94      0.94      0.94       435\n",
            "\n",
            "    accuracy                           0.94       864\n",
            "   macro avg       0.94      0.94      0.94       864\n",
            "weighted avg       0.94      0.94      0.94       864\n",
            "\n",
            "Fold Accuracy: 0.9409722222222222\n",
            "              precision    recall  f1-score   support\n",
            "\n",
            "           0       0.94      0.94      0.94       429\n",
            "           1       0.94      0.94      0.94       435\n",
            "\n",
            "    accuracy                           0.94       864\n",
            "   macro avg       0.94      0.94      0.94       864\n",
            "weighted avg       0.94      0.94      0.94       864\n",
            "\n",
            "Fold Accuracy: 0.9456018518518519\n",
            "              precision    recall  f1-score   support\n",
            "\n",
            "           0       0.95      0.94      0.95       429\n",
            "           1       0.94      0.95      0.95       435\n",
            "\n",
            "    accuracy                           0.95       864\n",
            "   macro avg       0.95      0.95      0.95       864\n",
            "weighted avg       0.95      0.95      0.95       864\n",
            "\n",
            "Average Accuracy: 0.943287037037037\n",
            "Test Accuracy: 0.9416666666666667\n",
            "              precision    recall  f1-score   support\n",
            "\n",
            "           0       0.95      0.94      0.94       557\n",
            "           1       0.93      0.95      0.94       523\n",
            "\n",
            "    accuracy                           0.94      1080\n",
            "   macro avg       0.94      0.94      0.94      1080\n",
            "weighted avg       0.94      0.94      0.94      1080\n",
            "\n"
          ]
        }
      ],
      "source": [
        "import numpy as np\n",
        "from sklearn.model_selection import StratifiedKFold\n",
        "from sklearn.metrics import accuracy_score, classification_report\n",
        "from sklearn.svm import SVC\n",
        "\n",
        "# Definisikan jumlah fold\n",
        "n_splits = 5\n",
        "\n",
        "# Inisialisasi StratifiedKFold\n",
        "skf = StratifiedKFold(n_splits=n_splits, shuffle=True, random_state=42)\n",
        "\n",
        "# Inisialisasi model\n",
        "model = SVC(kernel='sigmoid')\n",
        "\n",
        "# List untuk menyimpan hasil akurasi tiap fold\n",
        "accuracies = []\n",
        "\n",
        "# Loop melalui setiap fold\n",
        "for train_index, val_index in skf.split(X_train, y_train):\n",
        "    X_train_fold, X_val_fold = X_train[train_index], X_train[val_index]\n",
        "    y_train_fold, y_val_fold = y_train[train_index], y_train[val_index]\n",
        "    \n",
        "    # Train the model\n",
        "    model.fit(X_train_fold, y_train_fold)\n",
        "    \n",
        "    # Predict the validation set\n",
        "    y_val_pred = model.predict(X_val_fold)\n",
        "    \n",
        "    # Evaluate the model\n",
        "    accuracy = accuracy_score(y_val_fold, y_val_pred)\n",
        "    accuracies.append(accuracy)\n",
        "    \n",
        "    print(f'Fold Accuracy: {accuracy}')\n",
        "    print(classification_report(y_val_fold, y_val_pred))\n",
        "\n",
        "# Print the average accuracy across all folds\n",
        "print(f'Average Accuracy: {np.mean(accuracies)}')\n",
        "\n",
        "# Evaluate the final model on the test set\n",
        "model.fit(X_train, y_train)\n",
        "y_test_pred = model.predict(X_test)\n",
        "\n",
        "print(f'Test Accuracy: {accuracy_score(y_test, y_test_pred)}')\n",
        "print(classification_report(y_test, y_test_pred))\n"
      ]
    },
    {
      "cell_type": "code",
      "execution_count": 103,
      "metadata": {},
      "outputs": [
        {
          "name": "stdout",
          "output_type": "stream",
          "text": [
            "Fold Accuracy: 0.9976851851851852\n",
            "              precision    recall  f1-score   support\n",
            "\n",
            "           0       1.00      1.00      1.00       428\n",
            "           1       1.00      1.00      1.00       436\n",
            "\n",
            "    accuracy                           1.00       864\n",
            "   macro avg       1.00      1.00      1.00       864\n",
            "weighted avg       1.00      1.00      1.00       864\n",
            "\n",
            "Fold Accuracy: 0.9976851851851852\n",
            "              precision    recall  f1-score   support\n",
            "\n",
            "           0       1.00      1.00      1.00       428\n",
            "           1       1.00      1.00      1.00       436\n",
            "\n",
            "    accuracy                           1.00       864\n",
            "   macro avg       1.00      1.00      1.00       864\n",
            "weighted avg       1.00      1.00      1.00       864\n",
            "\n",
            "Fold Accuracy: 1.0\n",
            "              precision    recall  f1-score   support\n",
            "\n",
            "           0       1.00      1.00      1.00       429\n",
            "           1       1.00      1.00      1.00       435\n",
            "\n",
            "    accuracy                           1.00       864\n",
            "   macro avg       1.00      1.00      1.00       864\n",
            "weighted avg       1.00      1.00      1.00       864\n",
            "\n",
            "Fold Accuracy: 0.9988425925925926\n",
            "              precision    recall  f1-score   support\n",
            "\n",
            "           0       1.00      1.00      1.00       429\n",
            "           1       1.00      1.00      1.00       435\n",
            "\n",
            "    accuracy                           1.00       864\n",
            "   macro avg       1.00      1.00      1.00       864\n",
            "weighted avg       1.00      1.00      1.00       864\n",
            "\n",
            "Fold Accuracy: 0.9976851851851852\n",
            "              precision    recall  f1-score   support\n",
            "\n",
            "           0       1.00      1.00      1.00       429\n",
            "           1       1.00      1.00      1.00       435\n",
            "\n",
            "    accuracy                           1.00       864\n",
            "   macro avg       1.00      1.00      1.00       864\n",
            "weighted avg       1.00      1.00      1.00       864\n",
            "\n",
            "Average Accuracy: 0.9983796296296296\n",
            "Test Accuracy: 0.9962962962962963\n",
            "              precision    recall  f1-score   support\n",
            "\n",
            "           0       1.00      0.99      1.00       557\n",
            "           1       0.99      1.00      1.00       523\n",
            "\n",
            "    accuracy                           1.00      1080\n",
            "   macro avg       1.00      1.00      1.00      1080\n",
            "weighted avg       1.00      1.00      1.00      1080\n",
            "\n"
          ]
        }
      ],
      "source": [
        "import numpy as np\n",
        "from sklearn.model_selection import StratifiedKFold\n",
        "from sklearn.metrics import accuracy_score, classification_report\n",
        "from sklearn.svm import SVC\n",
        "\n",
        "# Definisikan jumlah fold\n",
        "n_splits = 5\n",
        "\n",
        "# Inisialisasi StratifiedKFold\n",
        "skf = StratifiedKFold(n_splits=n_splits, shuffle=True, random_state=42)\n",
        "\n",
        "# Inisialisasi model\n",
        "model = SVC(kernel='rbf')\n",
        "\n",
        "# List untuk menyimpan hasil akurasi tiap fold\n",
        "accuracies = []\n",
        "\n",
        "# Loop melalui setiap fold\n",
        "for train_index, val_index in skf.split(X_train, y_train):\n",
        "    X_train_fold, X_val_fold = X_train[train_index], X_train[val_index]\n",
        "    y_train_fold, y_val_fold = y_train[train_index], y_train[val_index]\n",
        "    \n",
        "    # Train the model\n",
        "    model.fit(X_train_fold, y_train_fold)\n",
        "    \n",
        "    # Predict the validation set\n",
        "    y_val_pred = model.predict(X_val_fold)\n",
        "    \n",
        "    # Evaluate the model\n",
        "    accuracy = accuracy_score(y_val_fold, y_val_pred)\n",
        "    accuracies.append(accuracy)\n",
        "    \n",
        "    print(f'Fold Accuracy: {accuracy}')\n",
        "    print(classification_report(y_val_fold, y_val_pred))\n",
        "\n",
        "# Print the average accuracy across all folds\n",
        "print(f'Average Accuracy: {np.mean(accuracies)}')\n",
        "\n",
        "# Evaluate the final model on the test set\n",
        "model.fit(X_train, y_train)\n",
        "y_test_pred = model.predict(X_test)\n",
        "\n",
        "print(f'Test Accuracy: {accuracy_score(y_test, y_test_pred)}')\n",
        "print(classification_report(y_test, y_test_pred))\n"
      ]
    },
    {
      "cell_type": "code",
      "execution_count": 104,
      "metadata": {},
      "outputs": [
        {
          "name": "stdout",
          "output_type": "stream",
          "text": [
            "Testing kernel: linear\n",
            "Fold Accuracy for kernel linear: 0.9976851851851852\n",
            "              precision    recall  f1-score   support\n",
            "\n",
            "           0       1.00      1.00      1.00       428\n",
            "           1       1.00      1.00      1.00       436\n",
            "\n",
            "    accuracy                           1.00       864\n",
            "   macro avg       1.00      1.00      1.00       864\n",
            "weighted avg       1.00      1.00      1.00       864\n",
            "\n",
            "Fold Accuracy for kernel linear: 0.9976851851851852\n",
            "              precision    recall  f1-score   support\n",
            "\n",
            "           0       1.00      1.00      1.00       428\n",
            "           1       1.00      1.00      1.00       436\n",
            "\n",
            "    accuracy                           1.00       864\n",
            "   macro avg       1.00      1.00      1.00       864\n",
            "weighted avg       1.00      1.00      1.00       864\n",
            "\n",
            "Fold Accuracy for kernel linear: 0.9976851851851852\n",
            "              precision    recall  f1-score   support\n",
            "\n",
            "           0       1.00      1.00      1.00       429\n",
            "           1       1.00      1.00      1.00       435\n",
            "\n",
            "    accuracy                           1.00       864\n",
            "   macro avg       1.00      1.00      1.00       864\n",
            "weighted avg       1.00      1.00      1.00       864\n",
            "\n",
            "Fold Accuracy for kernel linear: 0.9988425925925926\n",
            "              precision    recall  f1-score   support\n",
            "\n",
            "           0       1.00      1.00      1.00       429\n",
            "           1       1.00      1.00      1.00       435\n",
            "\n",
            "    accuracy                           1.00       864\n",
            "   macro avg       1.00      1.00      1.00       864\n",
            "weighted avg       1.00      1.00      1.00       864\n",
            "\n",
            "Fold Accuracy for kernel linear: 0.9988425925925926\n",
            "              precision    recall  f1-score   support\n",
            "\n",
            "           0       1.00      1.00      1.00       429\n",
            "           1       1.00      1.00      1.00       435\n",
            "\n",
            "    accuracy                           1.00       864\n",
            "   macro avg       1.00      1.00      1.00       864\n",
            "weighted avg       1.00      1.00      1.00       864\n",
            "\n",
            "Average Accuracy for kernel linear: 0.9981481481481481\n",
            "\n",
            "Testing kernel: poly\n",
            "Fold Accuracy for kernel poly: 0.9988425925925926\n",
            "              precision    recall  f1-score   support\n",
            "\n",
            "           0       1.00      1.00      1.00       428\n",
            "           1       1.00      1.00      1.00       436\n",
            "\n",
            "    accuracy                           1.00       864\n",
            "   macro avg       1.00      1.00      1.00       864\n",
            "weighted avg       1.00      1.00      1.00       864\n",
            "\n",
            "Fold Accuracy for kernel poly: 0.9965277777777778\n",
            "              precision    recall  f1-score   support\n",
            "\n",
            "           0       1.00      1.00      1.00       428\n",
            "           1       1.00      1.00      1.00       436\n",
            "\n",
            "    accuracy                           1.00       864\n",
            "   macro avg       1.00      1.00      1.00       864\n",
            "weighted avg       1.00      1.00      1.00       864\n",
            "\n",
            "Fold Accuracy for kernel poly: 0.9988425925925926\n",
            "              precision    recall  f1-score   support\n",
            "\n",
            "           0       1.00      1.00      1.00       429\n",
            "           1       1.00      1.00      1.00       435\n",
            "\n",
            "    accuracy                           1.00       864\n",
            "   macro avg       1.00      1.00      1.00       864\n",
            "weighted avg       1.00      1.00      1.00       864\n",
            "\n",
            "Fold Accuracy for kernel poly: 0.9976851851851852\n",
            "              precision    recall  f1-score   support\n",
            "\n",
            "           0       1.00      1.00      1.00       429\n",
            "           1       1.00      1.00      1.00       435\n",
            "\n",
            "    accuracy                           1.00       864\n",
            "   macro avg       1.00      1.00      1.00       864\n",
            "weighted avg       1.00      1.00      1.00       864\n",
            "\n",
            "Fold Accuracy for kernel poly: 0.9988425925925926\n",
            "              precision    recall  f1-score   support\n",
            "\n",
            "           0       1.00      1.00      1.00       429\n",
            "           1       1.00      1.00      1.00       435\n",
            "\n",
            "    accuracy                           1.00       864\n",
            "   macro avg       1.00      1.00      1.00       864\n",
            "weighted avg       1.00      1.00      1.00       864\n",
            "\n",
            "Average Accuracy for kernel poly: 0.9981481481481481\n",
            "\n",
            "Testing kernel: rbf\n",
            "Fold Accuracy for kernel rbf: 0.9976851851851852\n",
            "              precision    recall  f1-score   support\n",
            "\n",
            "           0       1.00      1.00      1.00       428\n",
            "           1       1.00      1.00      1.00       436\n",
            "\n",
            "    accuracy                           1.00       864\n",
            "   macro avg       1.00      1.00      1.00       864\n",
            "weighted avg       1.00      1.00      1.00       864\n",
            "\n",
            "Fold Accuracy for kernel rbf: 0.9976851851851852\n",
            "              precision    recall  f1-score   support\n",
            "\n",
            "           0       1.00      1.00      1.00       428\n",
            "           1       1.00      1.00      1.00       436\n",
            "\n",
            "    accuracy                           1.00       864\n",
            "   macro avg       1.00      1.00      1.00       864\n",
            "weighted avg       1.00      1.00      1.00       864\n",
            "\n",
            "Fold Accuracy for kernel rbf: 1.0\n",
            "              precision    recall  f1-score   support\n",
            "\n",
            "           0       1.00      1.00      1.00       429\n",
            "           1       1.00      1.00      1.00       435\n",
            "\n",
            "    accuracy                           1.00       864\n",
            "   macro avg       1.00      1.00      1.00       864\n",
            "weighted avg       1.00      1.00      1.00       864\n",
            "\n",
            "Fold Accuracy for kernel rbf: 0.9988425925925926\n",
            "              precision    recall  f1-score   support\n",
            "\n",
            "           0       1.00      1.00      1.00       429\n",
            "           1       1.00      1.00      1.00       435\n",
            "\n",
            "    accuracy                           1.00       864\n",
            "   macro avg       1.00      1.00      1.00       864\n",
            "weighted avg       1.00      1.00      1.00       864\n",
            "\n",
            "Fold Accuracy for kernel rbf: 0.9976851851851852\n",
            "              precision    recall  f1-score   support\n",
            "\n",
            "           0       1.00      1.00      1.00       429\n",
            "           1       1.00      1.00      1.00       435\n",
            "\n",
            "    accuracy                           1.00       864\n",
            "   macro avg       1.00      1.00      1.00       864\n",
            "weighted avg       1.00      1.00      1.00       864\n",
            "\n",
            "Average Accuracy for kernel rbf: 0.9983796296296296\n",
            "\n",
            "Testing kernel: sigmoid\n",
            "Fold Accuracy for kernel sigmoid: 0.9409722222222222\n",
            "              precision    recall  f1-score   support\n",
            "\n",
            "           0       0.94      0.94      0.94       428\n",
            "           1       0.94      0.94      0.94       436\n",
            "\n",
            "    accuracy                           0.94       864\n",
            "   macro avg       0.94      0.94      0.94       864\n",
            "weighted avg       0.94      0.94      0.94       864\n",
            "\n",
            "Fold Accuracy for kernel sigmoid: 0.9537037037037037\n",
            "              precision    recall  f1-score   support\n",
            "\n",
            "           0       0.94      0.97      0.95       428\n",
            "           1       0.97      0.94      0.95       436\n",
            "\n",
            "    accuracy                           0.95       864\n",
            "   macro avg       0.95      0.95      0.95       864\n",
            "weighted avg       0.95      0.95      0.95       864\n",
            "\n",
            "Fold Accuracy for kernel sigmoid: 0.9351851851851852\n",
            "              precision    recall  f1-score   support\n",
            "\n",
            "           0       0.93      0.93      0.93       429\n",
            "           1       0.94      0.94      0.94       435\n",
            "\n",
            "    accuracy                           0.94       864\n",
            "   macro avg       0.94      0.94      0.94       864\n",
            "weighted avg       0.94      0.94      0.94       864\n",
            "\n",
            "Fold Accuracy for kernel sigmoid: 0.9409722222222222\n",
            "              precision    recall  f1-score   support\n",
            "\n",
            "           0       0.94      0.94      0.94       429\n",
            "           1       0.94      0.94      0.94       435\n",
            "\n",
            "    accuracy                           0.94       864\n",
            "   macro avg       0.94      0.94      0.94       864\n",
            "weighted avg       0.94      0.94      0.94       864\n",
            "\n",
            "Fold Accuracy for kernel sigmoid: 0.9456018518518519\n",
            "              precision    recall  f1-score   support\n",
            "\n",
            "           0       0.95      0.94      0.95       429\n",
            "           1       0.94      0.95      0.95       435\n",
            "\n",
            "    accuracy                           0.95       864\n",
            "   macro avg       0.95      0.95      0.95       864\n",
            "weighted avg       0.95      0.95      0.95       864\n",
            "\n",
            "Average Accuracy for kernel sigmoid: 0.943287037037037\n",
            "\n"
          ]
        },
        {
          "data": {
            "image/png": "[encoded data removed]",
            "text/plain": [
              "<Figure size 800x600 with 2 Axes>"
            ]
          },
          "metadata": {},
          "output_type": "display_data"
        },
        {
          "data": {
            "image/png": "[encoded data removed]",
            "text/plain": [
              "<Figure size 800x600 with 2 Axes>"
            ]
          },
          "metadata": {},
          "output_type": "display_data"
        },
        {
          "data": {
            "image/png": "[encoded data removed]",
            "text/plain": [
              "<Figure size 800x600 with 2 Axes>"
            ]
          },
          "metadata": {},
          "output_type": "display_data"
        },
        {
          "data": {
            "image/png": "[encoded data removed]",
            "text/plain": [
              "<Figure size 800x600 with 2 Axes>"
            ]
          },
          "metadata": {},
          "output_type": "display_data"
        },
        {
          "name": "stdout",
          "output_type": "stream",
          "text": [
            "Best kernel: rbf with average accuracy: 0.9983796296296296\n",
            "Test Accuracy for kernel rbf: 0.9962962962962963\n",
            "              precision    recall  f1-score   support\n",
            "\n",
            "           0       1.00      0.99      1.00       557\n",
            "           1       0.99      1.00      1.00       523\n",
            "\n",
            "    accuracy                           1.00      1080\n",
            "   macro avg       1.00      1.00      1.00      1080\n",
            "weighted avg       1.00      1.00      1.00      1080\n",
            "\n"
          ]
        },
        {
          "data": {
            "image/png": "[encoded data removed]",
            "text/plain": [
              "<Figure size 800x600 with 2 Axes>"
            ]
          },
          "metadata": {},
          "output_type": "display_data"
        }
      ],
      "source": [
        "import numpy as np\n",
        "from sklearn.model_selection import StratifiedKFold\n",
        "from sklearn.metrics import accuracy_score, classification_report, confusion_matrix\n",
        "from sklearn.svm import SVC\n",
        "import matplotlib.pyplot as plt\n",
        "import seaborn as sns\n",
        "\n",
        "# Define kernels to be tested\n",
        "kernels = ['linear', 'poly', 'rbf', 'sigmoid']\n",
        "\n",
        "# Inisialisasi StratifiedKFold\n",
        "n_splits = 5\n",
        "skf = StratifiedKFold(n_splits=n_splits, shuffle=True, random_state=42)\n",
        "\n",
        "# Dictionary to store results\n",
        "results = {kernel: {'accuracies': [], 'y_true': [], 'y_pred': []} for kernel in kernels}\n",
        "\n",
        "# Loop through each kernel\n",
        "for kernel in kernels:\n",
        "    print(f'Testing kernel: {kernel}')\n",
        "    \n",
        "    # Initialize model with the current kernel\n",
        "    model = SVC(kernel=kernel)\n",
        "    \n",
        "    # Loop through each fold\n",
        "    for train_index, val_index in skf.split(X_train, y_train):\n",
        "        X_train_fold, X_val_fold = X_train[train_index], X_train[val_index]\n",
        "        y_train_fold, y_val_fold = y_train[train_index], y_train[val_index]\n",
        "        \n",
        "        # Train the model\n",
        "        model.fit(X_train_fold, y_train_fold)\n",
        "        \n",
        "        # Predict the validation set\n",
        "        y_val_pred = model.predict(X_val_fold)\n",
        "        \n",
        "        # Store true and predicted values\n",
        "        results[kernel]['y_true'].extend(y_val_fold)\n",
        "        results[kernel]['y_pred'].extend(y_val_pred)\n",
        "        \n",
        "        # Evaluate the model\n",
        "        accuracy = accuracy_score(y_val_fold, y_val_pred)\n",
        "        results[kernel]['accuracies'].append(accuracy)\n",
        "        \n",
        "        print(f'Fold Accuracy for kernel {kernel}: {accuracy}')\n",
        "        print(classification_report(y_val_fold, y_val_pred))\n",
        "    \n",
        "    # Print the average accuracy for the current kernel\n",
        "    avg_accuracy = np.mean(results[kernel]['accuracies'])\n",
        "    print(f'Average Accuracy for kernel {kernel}: {avg_accuracy}\\n')\n",
        "\n",
        "# Plot confusion matrix for each kernel\n",
        "for kernel in kernels:\n",
        "    cm = confusion_matrix(results[kernel]['y_true'], results[kernel]['y_pred'])\n",
        "    \n",
        "    plt.figure(figsize=(8, 6))\n",
        "    sns.heatmap(cm, annot=True, fmt='d', cmap='Blues', xticklabels=['Class 0', 'Class 1'], yticklabels=['Class 0', 'Class 1'])\n",
        "    plt.xlabel('Predicted')\n",
        "    plt.ylabel('True')\n",
        "    plt.title(f'Confusion Matrix for kernel: {kernel}')\n",
        "    plt.show()\n",
        "\n",
        "# Choose the best kernel based on average accuracy\n",
        "best_kernel = max(results, key=lambda k: np.mean(results[k]['accuracies']))\n",
        "print(f'Best kernel: {best_kernel} with average accuracy: {np.mean(results[best_kernel][\"accuracies\"])}')\n",
        "\n",
        "# Train the final model with the best kernel on the entire training set\n",
        "final_model = SVC(kernel=best_kernel)\n",
        "final_model.fit(X_train, y_train)\n",
        "\n",
        "# Predict and evaluate on the test set\n",
        "y_test_pred = final_model.predict(X_test)\n",
        "print(f'Test Accuracy for kernel {best_kernel}: {accuracy_score(y_test, y_test_pred)}')\n",
        "print(classification_report(y_test, y_test_pred))\n",
        "\n",
        "# Plot confusion matrix for the test set\n",
        "cm_test = confusion_matrix(y_test, y_test_pred)\n",
        "plt.figure(figsize=(8, 6))\n",
        "sns.heatmap(cm_test, annot=True, fmt='d', cmap='Blues', xticklabels=['Class 0', 'Class 1'], yticklabels=['Class 0', 'Class 1'])\n",
        "plt.xlabel('Predicted')\n",
        "plt.ylabel('True')\n",
        "plt.title(f'Confusion Matrix on Test Set for kernel: {best_kernel}')\n",
        "plt.show()\n"
      ]
    },
    {
      "cell_type": "markdown",
      "metadata": {
        "id": "owpR9iRDthzo"
      },
      "source": [
        "## Testing"
      ]
    },
    {
      "cell_type": "code",
      "execution_count": 105,
      "metadata": {
        "colab": {
          "base_uri": "https://localhost:8080/",
          "height": 101
        },
        "id": "yimhtDljBNOn",
        "outputId": "34ff7c13-f0ac-4703-9345-3ea907c123ef"
      },
      "outputs": [
        {
          "data": {
            "text/html": [
              "<div>\n",
              "<style scoped>\n",
              "    .dataframe tbody tr th:only-of-type {\n",
              "        vertical-align: middle;\n",
              "    }\n",
              "\n",
              "    .dataframe tbody tr th {\n",
              "        vertical-align: top;\n",
              "    }\n",
              "\n",
              "    .dataframe thead th {\n",
              "        text-align: right;\n",
              "    }\n",
              "</style>\n",
              "<table border=\"1\" class=\"dataframe\">\n",
              "  <thead>\n",
              "    <tr style=\"text-align: right;\">\n",
              "      <th></th>\n",
              "      <th>BMI</th>\n",
              "      <th>Smoking</th>\n",
              "      <th>AlcoholDrinking</th>\n",
              "      <th>Stroke</th>\n",
              "      <th>PhysicalHealth</th>\n",
              "      <th>MentalHealth</th>\n",
              "      <th>DiffWalking</th>\n",
              "      <th>Sex</th>\n",
              "      <th>AgeCategory</th>\n",
              "      <th>Race</th>\n",
              "      <th>Diabetic</th>\n",
              "      <th>PhysicalActivity</th>\n",
              "      <th>GenHealth</th>\n",
              "      <th>SleepTime</th>\n",
              "      <th>Asthma</th>\n",
              "      <th>KidneyDisease</th>\n",
              "      <th>SkinCancer</th>\n",
              "    </tr>\n",
              "  </thead>\n",
              "  <tbody>\n",
              "    <tr>\n",
              "      <th>0</th>\n",
              "      <td>16.6</td>\n",
              "      <td>1</td>\n",
              "      <td>0</td>\n",
              "      <td>0</td>\n",
              "      <td>3</td>\n",
              "      <td>30</td>\n",
              "      <td>0</td>\n",
              "      <td>1</td>\n",
              "      <td>8</td>\n",
              "      <td>1</td>\n",
              "      <td>1</td>\n",
              "      <td>1</td>\n",
              "      <td>2</td>\n",
              "      <td>5</td>\n",
              "      <td>1</td>\n",
              "      <td>0</td>\n",
              "      <td>1</td>\n",
              "    </tr>\n",
              "  </tbody>\n",
              "</table>\n",
              "</div>"
            ],
            "text/plain": [
              "    BMI  Smoking  AlcoholDrinking  Stroke  PhysicalHealth  MentalHealth  \\\n",
              "0  16.6        1                0       0               3            30   \n",
              "\n",
              "   DiffWalking  Sex  AgeCategory  Race  Diabetic  PhysicalActivity  GenHealth  \\\n",
              "0            0    1            8     1         1                 1          2   \n",
              "\n",
              "   SleepTime  Asthma  KidneyDisease  SkinCancer  \n",
              "0          5       1              0           1  "
            ]
          },
          "execution_count": 105,
          "metadata": {},
          "output_type": "execute_result"
        }
      ],
      "source": [
        "new_data = {\n",
        "    'BMI'\t: [16.6],\n",
        "    'Smoking'\t: [1],\n",
        "    'AlcoholDrinking' : [0],\n",
        "    'Stroke'\t: [0],\n",
        "    'PhysicalHealth' : [3],\n",
        "    'MentalHealth'\t: [30],\n",
        "    'DiffWalking'\t: [0],\n",
        "    'Sex'\t: [1],\n",
        "    'AgeCategory' : [8],\n",
        "    'Race' : [1],\n",
        "    'Diabetic' : [1],\n",
        "    'PhysicalActivity' : [1],\n",
        "    'GenHealth'\t: [2],\n",
        "    'SleepTime'\t: [5],\n",
        "    'Asthma'\t: [1],\n",
        "    'KidneyDisease'\t: [0],\n",
        "    'SkinCancer' : [1]\n",
        "}\n",
        "\n",
        "new_data = pd.DataFrame(new_data)\n",
        "new_data"
      ]
    },
    {
      "cell_type": "code",
      "execution_count": 106,
      "metadata": {
        "colab": {
          "base_uri": "https://localhost:8080/"
        },
        "id": "y4YeP-L54vao",
        "outputId": "5e240c3b-c400-4b81-c0ae-149677621318"
      },
      "outputs": [
        {
          "name": "stdout",
          "output_type": "stream",
          "text": [
            "Diagnosis Data Baru :  [0]\n"
          ]
        },
        {
          "name": "stderr",
          "output_type": "stream",
          "text": [
            "c:\\Users\\M S I\\AppData\\Local\\Programs\\Python\\Python38\\lib\\site-packages\\sklearn\\base.py:458: UserWarning: X has feature names, but StandardScaler was fitted without feature names\n",
            "  warnings.warn(\n"
          ]
        }
      ],
      "source": [
        "scaled_new_data = scaler.transform(new_data)\n",
        "y_pred_new = clf.predict(scaled_new_data)\n",
        "\n",
        "print(\"Diagnosis Data Baru : \", y_pred_new)"
      ]
    },
    {
      "cell_type": "code",
      "execution_count": 107,
      "metadata": {
        "colab": {
          "base_uri": "https://localhost:8080/"
        },
        "id": "UN6TZoxLgta7",
        "outputId": "0506b7f7-7200-4219-c5ad-11e043cbe055"
      },
      "outputs": [
        {
          "name": "stdout",
          "output_type": "stream",
          "text": [
            "Diagnosis Data Baru :  [0]\n"
          ]
        },
        {
          "name": "stderr",
          "output_type": "stream",
          "text": [
            "c:\\Users\\M S I\\AppData\\Local\\Programs\\Python\\Python38\\lib\\site-packages\\sklearn\\base.py:458: UserWarning: X has feature names, but StandardScaler was fitted without feature names\n",
            "  warnings.warn(\n"
          ]
        }
      ],
      "source": [
        "new_data = {\n",
        "    'BMI'\t: [10.0],\n",
        "    'Smoking'\t: [1],\n",
        "    'AlcoholDrinking' : [1],\n",
        "    'Stroke'\t: [1],\n",
        "    'PhysicalHealth' : [9],\n",
        "    'MentalHealth'\t: [10],\n",
        "    'DiffWalking'\t: [1],\n",
        "    'Sex'\t: [1],\n",
        "    'AgeCategory' : [12],\n",
        "    'Race' : [1],\n",
        "    'Diabetic' : [1],\n",
        "    'PhysicalActivity' : [0],\n",
        "    'GenHealth'\t: [4],\n",
        "    'SleepTime'\t: [2],\n",
        "    'Asthma'\t: [1],\n",
        "    'KidneyDisease'\t: [1],\n",
        "    'SkinCancer' : [1]\n",
        "}\n",
        "\n",
        "new_data = pd.DataFrame(new_data)\n",
        "new_data\n",
        "\n",
        "scaled_new_data = scaler.transform(new_data)\n",
        "y_pred_new = clf.predict(scaled_new_data)\n",
        "\n",
        "print(\"Diagnosis Data Baru : \", y_pred_new)"
      ]
    },
    {
      "cell_type": "code",
      "execution_count": 108,
      "metadata": {},
      "outputs": [
        {
          "name": "stdout",
          "output_type": "stream",
          "text": [
            "Diagnosis Data Baru :  [0]\n"
          ]
        },
        {
          "name": "stderr",
          "output_type": "stream",
          "text": [
            "c:\\Users\\M S I\\AppData\\Local\\Programs\\Python\\Python38\\lib\\site-packages\\sklearn\\base.py:458: UserWarning: X has feature names, but StandardScaler was fitted without feature names\n",
            "  warnings.warn(\n"
          ]
        }
      ],
      "source": [
        "new_data = {\n",
        "    'BMI'\t: [34.3],\n",
        "    'Smoking'\t: [0],\n",
        "    'AlcoholDrinking' : [0],\n",
        "    'Stroke'\t: [1],\n",
        "    'PhysicalHealth' : [50],\n",
        "    'MentalHealth'\t: [50],\n",
        "    'DiffWalking'\t: [1],\n",
        "    'Sex'\t: [1],\n",
        "    'AgeCategory' : [1],\n",
        "    'Race' : [1],\n",
        "    'Diabetic' : [0],\n",
        "    'PhysicalActivity' : [1],\n",
        "    'GenHealth'\t: [2],\n",
        "    'SleepTime'\t: [5],\n",
        "    'Asthma'\t: [0],\n",
        "    'KidneyDisease'\t: [0],\n",
        "    'SkinCancer' : [0]\n",
        "}\n",
        "\n",
        "new_data = pd.DataFrame(new_data)\n",
        "new_data\n",
        "\n",
        "scaled_new_data = scaler.transform(new_data)\n",
        "y_pred_new = clf.predict(scaled_new_data)\n",
        "\n",
        "print(\"Diagnosis Data Baru : \", y_pred_new)"
      ]
    },
    {
      "cell_type": "code",
      "execution_count": 109,
      "metadata": {},
      "outputs": [],
      "source": [
        "import pickle"
      ]
    },
    {
      "cell_type": "code",
      "execution_count": 110,
      "metadata": {},
      "outputs": [],
      "source": [
        "from sklearn.preprocessing import StandardScaler"
      ]
    },
    {
      "cell_type": "code",
      "execution_count": 111,
      "metadata": {},
      "outputs": [],
      "source": [
        "scaler = StandardScaler()\n",
        "scaler.fit(X_train)\n",
        "X = scaler.transform(X)"
      ]
    },
    {
      "cell_type": "code",
      "execution_count": 112,
      "metadata": {},
      "outputs": [],
      "source": [
        "data_diskalakan_uji = scaler.transform(X_test)"
      ]
    },
    {
      "cell_type": "code",
      "execution_count": 113,
      "metadata": {},
      "outputs": [
        {
          "name": "stderr",
          "output_type": "stream",
          "text": [
            "c:\\Users\\M S I\\AppData\\Local\\Programs\\Python\\Python38\\lib\\site-packages\\sklearn\\svm\\_classes.py:32: FutureWarning: The default value of `dual` will change from `True` to `'auto'` in 1.5. Set the value of `dual` explicitly to suppress the warning.\n",
            "  warnings.warn(\n",
            "c:\\Users\\M S I\\AppData\\Local\\Programs\\Python\\Python38\\lib\\site-packages\\sklearn\\svm\\_base.py:1250: ConvergenceWarning: Liblinear failed to converge, increase the number of iterations.\n",
            "  warnings.warn(\n"
          ]
        },
        {
          "name": "stdout",
          "output_type": "stream",
          "text": [
            "              precision    recall  f1-score   support\n",
            "\n",
            "           0       1.00      0.99      0.99       557\n",
            "           1       0.99      1.00      0.99       523\n",
            "\n",
            "    accuracy                           0.99      1080\n",
            "   macro avg       0.99      0.99      0.99      1080\n",
            "weighted avg       0.99      0.99      0.99      1080\n",
            "\n"
          ]
        }
      ],
      "source": [
        "from sklearn.pipeline import make_pipeline\n",
        "from sklearn.preprocessing import StandardScaler\n",
        "from sklearn.svm import LinearSVC\n",
        "from sklearn.metrics import classification_report\n",
        "\n",
        "# Assuming you have your training and testing data (X_train, X_test, y_train, y_test)\n",
        "\n",
        "# Create the model pipeline\n",
        "model_numpy = make_pipeline(StandardScaler(), LinearSVC())\n",
        "\n",
        "# Train the model\n",
        "model_numpy.fit(X_train, y_train)\n",
        "\n",
        "# Make predictions on the test data\n",
        "y_pred = model_numpy.predict(X_test)\n",
        "\n",
        "# Print the classification report\n",
        "print(classification_report(y_test, y_pred))\n",
        "\n",
        "# Save the trained model (replace with your preferred filename)\n",
        "with open(\"model_numpy.pkl\", \"wb\") as model_file:\n",
        "    pickle.dump(model_numpy, model_file)\n"
      ]
    },
    {
      "cell_type": "code",
      "execution_count": 114,
      "metadata": {},
      "outputs": [],
      "source": [
        "#load model\n",
        "with open('model_numpy.pkl', 'rb') as model_file:\n",
        "    model = pickle.load(model_file)"
      ]
    }
  ],
  "metadata": {
    "colab": {
      "provenance": []
    },
    "kernelspec": {
      "display_name": "Python 3",
      "name": "python3"
    },
    "language_info": {
      "codemirror_mode": {
        "name": "ipython",
        "version": 3
      },
      "file_extension": ".py",
      "mimetype": "text/x-python",
      "name": "python",
      "nbconvert_exporter": "python",
      "pygments_lexer": "ipython3",
      "version": "3.8.3"
    }
  },
  "nbformat": 4,
  "nbformat_minor": 0
}
